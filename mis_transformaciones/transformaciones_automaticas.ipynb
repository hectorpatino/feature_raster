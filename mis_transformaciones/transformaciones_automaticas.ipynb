{
 "cells": [
  {
   "cell_type": "code",
   "execution_count": 114,
   "metadata": {},
   "outputs": [],
   "source": [
    "import seaborn as sns\n",
    "import numpy as np\n",
    "import pandas as pd\n",
    "from feature_raster.Sensors.Landsat.Landsat8 import Landsat8\n",
    "\n",
    "np.set_printoptions(suppress=True)\n",
    "pd.set_option('display.float_format', lambda x: '%.3f' % x)"
   ]
  },
  {
   "cell_type": "code",
   "execution_count": 115,
   "metadata": {
    "pycharm": {
     "name": "#%%\n"
    }
   },
   "outputs": [],
   "source": [
    "bogota_2018 = Landsat8(r\"..\\data\\original\\raster\\real_datasets\\2018\\envelope_2018.img\")"
   ]
  },
  {
   "cell_type": "code",
   "execution_count": 116,
   "metadata": {
    "pycharm": {
     "name": "#%%\n"
    }
   },
   "outputs": [
    {
     "data": {
      "text/plain": "   COASTAL   BLUE  GREEN    RED    NIR  SWIR1  SWIR2  QUALITY\n0    10196   9548   9030   8248   9860   9084   7848     2720\n1     9380   8551   8141   7206  12198   8198   6831     2720\n2    14890  15299  14510  15450  24745  20089  18142     2720\n3    15649  16917  16839  17169  28183  25217  22646     2720\n4    13237  14236  13343  13826  23020  19114  18368     2720",
      "text/html": "<div>\n<style scoped>\n    .dataframe tbody tr th:only-of-type {\n        vertical-align: middle;\n    }\n\n    .dataframe tbody tr th {\n        vertical-align: top;\n    }\n\n    .dataframe thead th {\n        text-align: right;\n    }\n</style>\n<table border=\"1\" class=\"dataframe\">\n  <thead>\n    <tr style=\"text-align: right;\">\n      <th></th>\n      <th>COASTAL</th>\n      <th>BLUE</th>\n      <th>GREEN</th>\n      <th>RED</th>\n      <th>NIR</th>\n      <th>SWIR1</th>\n      <th>SWIR2</th>\n      <th>QUALITY</th>\n    </tr>\n  </thead>\n  <tbody>\n    <tr>\n      <th>0</th>\n      <td>10196</td>\n      <td>9548</td>\n      <td>9030</td>\n      <td>8248</td>\n      <td>9860</td>\n      <td>9084</td>\n      <td>7848</td>\n      <td>2720</td>\n    </tr>\n    <tr>\n      <th>1</th>\n      <td>9380</td>\n      <td>8551</td>\n      <td>8141</td>\n      <td>7206</td>\n      <td>12198</td>\n      <td>8198</td>\n      <td>6831</td>\n      <td>2720</td>\n    </tr>\n    <tr>\n      <th>2</th>\n      <td>14890</td>\n      <td>15299</td>\n      <td>14510</td>\n      <td>15450</td>\n      <td>24745</td>\n      <td>20089</td>\n      <td>18142</td>\n      <td>2720</td>\n    </tr>\n    <tr>\n      <th>3</th>\n      <td>15649</td>\n      <td>16917</td>\n      <td>16839</td>\n      <td>17169</td>\n      <td>28183</td>\n      <td>25217</td>\n      <td>22646</td>\n      <td>2720</td>\n    </tr>\n    <tr>\n      <th>4</th>\n      <td>13237</td>\n      <td>14236</td>\n      <td>13343</td>\n      <td>13826</td>\n      <td>23020</td>\n      <td>19114</td>\n      <td>18368</td>\n      <td>2720</td>\n    </tr>\n  </tbody>\n</table>\n</div>"
     },
     "execution_count": 116,
     "metadata": {},
     "output_type": "execute_result"
    }
   ],
   "source": [
    "bogota_2018.dataframe.head()"
   ]
  },
  {
   "cell_type": "code",
   "execution_count": 117,
   "metadata": {
    "pycharm": {
     "name": "#%%\n"
    }
   },
   "outputs": [
    {
     "name": "stdout",
     "output_type": "stream",
     "text": [
      "{'driver': 'HFA', 'dtype': 'uint16', 'nodata': None, 'width': 826, 'height': 1425, 'count': 8, 'crs': CRS.from_dict(init='epsg:32618'), 'transform': Affine(30.0, 0.0, 585795.0,\n",
      "       0.0, -30.0, 534525.0)}\n"
     ]
    }
   ],
   "source": [
    "print(bogota_2018.meta)"
   ]
  },
  {
   "cell_type": "code",
   "execution_count": 118,
   "metadata": {
    "pycharm": {
     "name": "#%%\n"
    }
   },
   "outputs": [
    {
     "data": {
      "text/plain": "(1177050, 8)"
     },
     "execution_count": 118,
     "metadata": {},
     "output_type": "execute_result"
    }
   ],
   "source": [
    "bogota_2018.dataframe.shape"
   ]
  },
  {
   "cell_type": "markdown",
   "metadata": {
    "pycharm": {
     "name": "#%% md\n"
    }
   },
   "source": [
    "with this you can use all pandas and seaborn, pyplot, etc features you need to perform analysis of\n",
    "your data for example pairplots.\n"
   ]
  },
  {
   "cell_type": "code",
   "execution_count": 119,
   "metadata": {
    "pycharm": {
     "name": "#%%\n"
    }
   },
   "outputs": [
    {
     "data": {
      "text/plain": "<seaborn.axisgrid.PairGrid at 0x1891942a978>"
     },
     "execution_count": 119,
     "metadata": {},
     "output_type": "execute_result"
    },
    {
     "data": {
      "text/plain": "<Figure size 360x360 with 6 Axes>",
      "image/png": "[encoded data removed]"
     },
     "metadata": {
      "needs_background": "light"
     },
     "output_type": "display_data"
    }
   ],
   "source": [
    "sns.pairplot(bogota_2018.dataframe.head(100000), vars=[\"RED\", \"NIR\"])"
   ]
  },
  {
   "cell_type": "markdown",
   "metadata": {
    "pycharm": {
     "name": "#%% md\n"
    }
   },
   "source": [
    "Take into count that this image is big, with 1.1M+ rows, so some computings maybe a little bit slow, i tried to perform\n",
    "a pairplot over the whole dataset and it took its time, but it is not really heavy due all of our columns\n",
    "are integers, this is gonna change after feature engineering.\n"
   ]
  },
  {
   "cell_type": "code",
   "execution_count": 120,
   "metadata": {
    "pycharm": {
     "name": "#%%\n"
    }
   },
   "outputs": [
    {
     "name": "stdout",
     "output_type": "stream",
     "text": [
      "<class 'pandas.core.frame.DataFrame'>\n",
      "RangeIndex: 1177050 entries, 0 to 1177049\n",
      "Data columns (total 8 columns):\n",
      " #   Column   Non-Null Count    Dtype\n",
      "---  ------   --------------    -----\n",
      " 0   COASTAL  1177050 non-null  int64\n",
      " 1   BLUE     1177050 non-null  int64\n",
      " 2   GREEN    1177050 non-null  int64\n",
      " 3   RED      1177050 non-null  int64\n",
      " 4   NIR      1177050 non-null  int64\n",
      " 5   SWIR1    1177050 non-null  int64\n",
      " 6   SWIR2    1177050 non-null  int64\n",
      " 7   QUALITY  1177050 non-null  int64\n",
      "dtypes: int64(8)\n",
      "memory usage: 71.8 MB\n"
     ]
    }
   ],
   "source": [
    "bogota_2018.dataframe.info(memory_usage=True)"
   ]
  },
  {
   "cell_type": "markdown",
   "metadata": {
    "pycharm": {
     "name": "#%% md\n"
    }
   },
   "source": [
    "### PERFORMING FEATURE ENGINEERING"
   ]
  },
  {
   "cell_type": "code",
   "execution_count": 121,
   "metadata": {
    "pycharm": {
     "name": "#%%\n"
    }
   },
   "outputs": [],
   "source": [
    "from FeatureRaster.Transformers.Landsat.Landsat8Transformer import Landsat8Transformer"
   ]
  },
  {
   "cell_type": "code",
   "execution_count": 122,
   "metadata": {
    "pycharm": {
     "name": "#%%\n"
    }
   },
   "outputs": [],
   "source": [
    "transformer = Landsat8Transformer()"
   ]
  },
  {
   "cell_type": "code",
   "execution_count": 123,
   "metadata": {
    "pycharm": {
     "name": "#%%\n"
    }
   },
   "outputs": [
    {
     "data": {
      "text/plain": "   COASTAL   BLUE  GREEN    RED    NIR  SWIR1  SWIR2  QUALITY  NDVI    ATSAVI  \\\n0    10196   9548   9030   8248   9860   9084   7848     2720 0.089  9853.905   \n1     9380   8551   8141   7206  12198   8198   6831     2720 0.257 12849.934   \n2    14890  15299  14510  15450  24745  20089  18142     2720 0.231 25884.374   \n3    15649  16917  16839  17169  28183  25217  22646     2720 0.243 29574.723   \n4    13237  14236  13343  13826  23020  19114  18368     2720 0.250 24200.289   \n\n   ...  TASSELED_BRIGHTNESS  TASSELED_VEGETATION  TASSELED_WETNESS  \\\n0  ...            16327.469            -2909.674          -527.959   \n1  ...            16395.342              -40.776           665.431   \n2  ...            33273.171               55.759         -3371.915   \n3  ...            37994.745              203.568         -6504.747   \n4  ...            30927.951              153.475         -4285.743   \n\n   TRANSFORMED_NDVI   TVI  VARIGREEN  WDRVI   NDBI     BU  MNDWI  \n0             0.089 0.455      0.101  0.089 -0.041 -0.130 -0.003  \n1             0.257 0.439      0.138  0.257 -0.196 -0.453 -0.003  \n2             0.231 0.531     -0.064  0.231 -0.104 -0.335 -0.161  \n3             0.243 0.510     -0.019  0.243 -0.056 -0.298 -0.199  \n4             0.250 0.518     -0.037  0.250 -0.093 -0.342 -0.178  \n\n[5 rows x 89 columns]",
      "text/html": "<div>\n<style scoped>\n    .dataframe tbody tr th:only-of-type {\n        vertical-align: middle;\n    }\n\n    .dataframe tbody tr th {\n        vertical-align: top;\n    }\n\n    .dataframe thead th {\n        text-align: right;\n    }\n</style>\n<table border=\"1\" class=\"dataframe\">\n  <thead>\n    <tr style=\"text-align: right;\">\n      <th></th>\n      <th>COASTAL</th>\n      <th>BLUE</th>\n      <th>GREEN</th>\n      <th>RED</th>\n      <th>NIR</th>\n      <th>SWIR1</th>\n      <th>SWIR2</th>\n      <th>QUALITY</th>\n      <th>NDVI</th>\n      <th>ATSAVI</th>\n      <th>...</th>\n      <th>TASSELED_BRIGHTNESS</th>\n      <th>TASSELED_VEGETATION</th>\n      <th>TASSELED_WETNESS</th>\n      <th>TRANSFORMED_NDVI</th>\n      <th>TVI</th>\n      <th>VARIGREEN</th>\n      <th>WDRVI</th>\n      <th>NDBI</th>\n      <th>BU</th>\n      <th>MNDWI</th>\n    </tr>\n  </thead>\n  <tbody>\n    <tr>\n      <th>0</th>\n      <td>10196</td>\n      <td>9548</td>\n      <td>9030</td>\n      <td>8248</td>\n      <td>9860</td>\n      <td>9084</td>\n      <td>7848</td>\n      <td>2720</td>\n      <td>0.089</td>\n      <td>9853.905</td>\n      <td>...</td>\n      <td>16327.469</td>\n      <td>-2909.674</td>\n      <td>-527.959</td>\n      <td>0.089</td>\n      <td>0.455</td>\n      <td>0.101</td>\n      <td>0.089</td>\n      <td>-0.041</td>\n      <td>-0.130</td>\n      <td>-0.003</td>\n    </tr>\n    <tr>\n      <th>1</th>\n      <td>9380</td>\n      <td>8551</td>\n      <td>8141</td>\n      <td>7206</td>\n      <td>12198</td>\n      <td>8198</td>\n      <td>6831</td>\n      <td>2720</td>\n      <td>0.257</td>\n      <td>12849.934</td>\n      <td>...</td>\n      <td>16395.342</td>\n      <td>-40.776</td>\n      <td>665.431</td>\n      <td>0.257</td>\n      <td>0.439</td>\n      <td>0.138</td>\n      <td>0.257</td>\n      <td>-0.196</td>\n      <td>-0.453</td>\n      <td>-0.003</td>\n    </tr>\n    <tr>\n      <th>2</th>\n      <td>14890</td>\n      <td>15299</td>\n      <td>14510</td>\n      <td>15450</td>\n      <td>24745</td>\n      <td>20089</td>\n      <td>18142</td>\n      <td>2720</td>\n      <td>0.231</td>\n      <td>25884.374</td>\n      <td>...</td>\n      <td>33273.171</td>\n      <td>55.759</td>\n      <td>-3371.915</td>\n      <td>0.231</td>\n      <td>0.531</td>\n      <td>-0.064</td>\n      <td>0.231</td>\n      <td>-0.104</td>\n      <td>-0.335</td>\n      <td>-0.161</td>\n    </tr>\n    <tr>\n      <th>3</th>\n      <td>15649</td>\n      <td>16917</td>\n      <td>16839</td>\n      <td>17169</td>\n      <td>28183</td>\n      <td>25217</td>\n      <td>22646</td>\n      <td>2720</td>\n      <td>0.243</td>\n      <td>29574.723</td>\n      <td>...</td>\n      <td>37994.745</td>\n      <td>203.568</td>\n      <td>-6504.747</td>\n      <td>0.243</td>\n      <td>0.510</td>\n      <td>-0.019</td>\n      <td>0.243</td>\n      <td>-0.056</td>\n      <td>-0.298</td>\n      <td>-0.199</td>\n    </tr>\n    <tr>\n      <th>4</th>\n      <td>13237</td>\n      <td>14236</td>\n      <td>13343</td>\n      <td>13826</td>\n      <td>23020</td>\n      <td>19114</td>\n      <td>18368</td>\n      <td>2720</td>\n      <td>0.250</td>\n      <td>24200.289</td>\n      <td>...</td>\n      <td>30927.951</td>\n      <td>153.475</td>\n      <td>-4285.743</td>\n      <td>0.250</td>\n      <td>0.518</td>\n      <td>-0.037</td>\n      <td>0.250</td>\n      <td>-0.093</td>\n      <td>-0.342</td>\n      <td>-0.178</td>\n    </tr>\n  </tbody>\n</table>\n<p>5 rows × 89 columns</p>\n</div>"
     },
     "execution_count": 123,
     "metadata": {},
     "output_type": "execute_result"
    }
   ],
   "source": [
    "transformed_df = transformer.transform(bogota_2018)\n",
    "transformed_df.head()"
   ]
  },
  {
   "cell_type": "code",
   "execution_count": 123,
   "outputs": [],
   "source": [],
   "metadata": {
    "collapsed": false,
    "pycharm": {
     "name": "#%%\n"
    }
   }
  },
  {
   "cell_type": "code",
   "execution_count": 124,
   "outputs": [],
   "source": [
    "columns = transformed_df.columns"
   ],
   "metadata": {
    "collapsed": false,
    "pycharm": {
     "name": "#%%\n"
    }
   }
  },
  {
   "cell_type": "code",
   "execution_count": 125,
   "outputs": [],
   "source": [
    "from sklearn.preprocessing import MinMaxScaler\n"
   ],
   "metadata": {
    "collapsed": false,
    "pycharm": {
     "name": "#%%\n"
    }
   }
  },
  {
   "cell_type": "code",
   "execution_count": 126,
   "outputs": [],
   "source": [
    "scaler = MinMaxScaler()"
   ],
   "metadata": {
    "collapsed": false,
    "pycharm": {
     "name": "#%%\n"
    }
   }
  },
  {
   "cell_type": "code",
   "execution_count": 127,
   "outputs": [],
   "source": [
    "transformed_df = scaler.fit_transform(transformed_df)\n",
    "transformed_df = pd.DataFrame(transformed_df, columns=columns)"
   ],
   "metadata": {
    "collapsed": false,
    "pycharm": {
     "name": "#%%\n"
    }
   }
  },
  {
   "cell_type": "code",
   "execution_count": 128,
   "outputs": [
    {
     "data": {
      "text/plain": "   COASTAL  BLUE  GREEN   RED   NIR  SWIR1  SWIR2  QUALITY  NDVI  ATSAVI  ...  \\\n0    0.033 0.033  0.039 0.035 0.066  0.057  0.036    0.000 0.347   0.072  ...   \n1    0.019 0.016  0.024 0.017 0.105  0.042  0.019    0.000 0.552   0.121  ...   \n2    0.118 0.132  0.132 0.156 0.316  0.241  0.208    0.000 0.520   0.335  ...   \n3    0.132 0.160  0.172 0.185 0.373  0.326  0.284    0.000 0.534   0.396  ...   \n4    0.088 0.114  0.113 0.129 0.287  0.224  0.212    0.000 0.542   0.308  ...   \n\n   TASSELED_BRIGHTNESS  TASSELED_VEGETATION  TASSELED_WETNESS  \\\n0                0.039                0.609             0.770   \n1                0.040                0.676             0.788   \n2                0.199                0.678             0.727   \n3                0.244                0.682             0.680   \n4                0.177                0.681             0.713   \n\n   TRANSFORMED_NDVI   TVI  VARIGREEN  WDRVI  NDBI    BU  MNDWI  \n0             0.347 0.487      0.618  0.347 0.474 0.606  0.684  \n1             0.552 0.461      0.648  0.552 0.318 0.398  0.683  \n2             0.520 0.614      0.484  0.520 0.411 0.474  0.513  \n3             0.534 0.578      0.520  0.534 0.459 0.498  0.472  \n4             0.542 0.591      0.506  0.542 0.422 0.470  0.495  \n\n[5 rows x 89 columns]",
      "text/html": "<div>\n<style scoped>\n    .dataframe tbody tr th:only-of-type {\n        vertical-align: middle;\n    }\n\n    .dataframe tbody tr th {\n        vertical-align: top;\n    }\n\n    .dataframe thead th {\n        text-align: right;\n    }\n</style>\n<table border=\"1\" class=\"dataframe\">\n  <thead>\n    <tr style=\"text-align: right;\">\n      <th></th>\n      <th>COASTAL</th>\n      <th>BLUE</th>\n      <th>GREEN</th>\n      <th>RED</th>\n      <th>NIR</th>\n      <th>SWIR1</th>\n      <th>SWIR2</th>\n      <th>QUALITY</th>\n      <th>NDVI</th>\n      <th>ATSAVI</th>\n      <th>...</th>\n      <th>TASSELED_BRIGHTNESS</th>\n      <th>TASSELED_VEGETATION</th>\n      <th>TASSELED_WETNESS</th>\n      <th>TRANSFORMED_NDVI</th>\n      <th>TVI</th>\n      <th>VARIGREEN</th>\n      <th>WDRVI</th>\n      <th>NDBI</th>\n      <th>BU</th>\n      <th>MNDWI</th>\n    </tr>\n  </thead>\n  <tbody>\n    <tr>\n      <th>0</th>\n      <td>0.033</td>\n      <td>0.033</td>\n      <td>0.039</td>\n      <td>0.035</td>\n      <td>0.066</td>\n      <td>0.057</td>\n      <td>0.036</td>\n      <td>0.000</td>\n      <td>0.347</td>\n      <td>0.072</td>\n      <td>...</td>\n      <td>0.039</td>\n      <td>0.609</td>\n      <td>0.770</td>\n      <td>0.347</td>\n      <td>0.487</td>\n      <td>0.618</td>\n      <td>0.347</td>\n      <td>0.474</td>\n      <td>0.606</td>\n      <td>0.684</td>\n    </tr>\n    <tr>\n      <th>1</th>\n      <td>0.019</td>\n      <td>0.016</td>\n      <td>0.024</td>\n      <td>0.017</td>\n      <td>0.105</td>\n      <td>0.042</td>\n      <td>0.019</td>\n      <td>0.000</td>\n      <td>0.552</td>\n      <td>0.121</td>\n      <td>...</td>\n      <td>0.040</td>\n      <td>0.676</td>\n      <td>0.788</td>\n      <td>0.552</td>\n      <td>0.461</td>\n      <td>0.648</td>\n      <td>0.552</td>\n      <td>0.318</td>\n      <td>0.398</td>\n      <td>0.683</td>\n    </tr>\n    <tr>\n      <th>2</th>\n      <td>0.118</td>\n      <td>0.132</td>\n      <td>0.132</td>\n      <td>0.156</td>\n      <td>0.316</td>\n      <td>0.241</td>\n      <td>0.208</td>\n      <td>0.000</td>\n      <td>0.520</td>\n      <td>0.335</td>\n      <td>...</td>\n      <td>0.199</td>\n      <td>0.678</td>\n      <td>0.727</td>\n      <td>0.520</td>\n      <td>0.614</td>\n      <td>0.484</td>\n      <td>0.520</td>\n      <td>0.411</td>\n      <td>0.474</td>\n      <td>0.513</td>\n    </tr>\n    <tr>\n      <th>3</th>\n      <td>0.132</td>\n      <td>0.160</td>\n      <td>0.172</td>\n      <td>0.185</td>\n      <td>0.373</td>\n      <td>0.326</td>\n      <td>0.284</td>\n      <td>0.000</td>\n      <td>0.534</td>\n      <td>0.396</td>\n      <td>...</td>\n      <td>0.244</td>\n      <td>0.682</td>\n      <td>0.680</td>\n      <td>0.534</td>\n      <td>0.578</td>\n      <td>0.520</td>\n      <td>0.534</td>\n      <td>0.459</td>\n      <td>0.498</td>\n      <td>0.472</td>\n    </tr>\n    <tr>\n      <th>4</th>\n      <td>0.088</td>\n      <td>0.114</td>\n      <td>0.113</td>\n      <td>0.129</td>\n      <td>0.287</td>\n      <td>0.224</td>\n      <td>0.212</td>\n      <td>0.000</td>\n      <td>0.542</td>\n      <td>0.308</td>\n      <td>...</td>\n      <td>0.177</td>\n      <td>0.681</td>\n      <td>0.713</td>\n      <td>0.542</td>\n      <td>0.591</td>\n      <td>0.506</td>\n      <td>0.542</td>\n      <td>0.422</td>\n      <td>0.470</td>\n      <td>0.495</td>\n    </tr>\n  </tbody>\n</table>\n<p>5 rows × 89 columns</p>\n</div>"
     },
     "execution_count": 128,
     "metadata": {},
     "output_type": "execute_result"
    }
   ],
   "source": [
    "transformed_df.head()"
   ],
   "metadata": {
    "collapsed": false,
    "pycharm": {
     "name": "#%%\n"
    }
   }
  },
  {
   "cell_type": "markdown",
   "metadata": {},
   "source": [
    "That´s all you need to create all the posible indexes i have created for your landsat 8 image. Of course if you want\n",
    "to save your image you are going to need to save this dataframe in the dataframe property of *bogota_2018*. I will work in\n",
    "the feature of doing this automatically in the next version. For now, lets have some fun with the analysis of our image."
   ]
  },
  {
   "cell_type": "code",
   "execution_count": 129,
   "metadata": {
    "pycharm": {
     "name": "#%%\n"
    }
   },
   "outputs": [
    {
     "data": {
      "text/plain": "   COASTAL  BLUE  GREEN   RED   NIR  SWIR1  SWIR2  QUALITY  NDVI  ATSAVI  ...  \\\n0    0.033 0.033  0.039 0.035 0.066  0.057  0.036    0.000 0.347   0.072  ...   \n1    0.019 0.016  0.024 0.017 0.105  0.042  0.019    0.000 0.552   0.121  ...   \n2    0.118 0.132  0.132 0.156 0.316  0.241  0.208    0.000 0.520   0.335  ...   \n3    0.132 0.160  0.172 0.185 0.373  0.326  0.284    0.000 0.534   0.396  ...   \n4    0.088 0.114  0.113 0.129 0.287  0.224  0.212    0.000 0.542   0.308  ...   \n\n   TASSELED_BRIGHTNESS  TASSELED_VEGETATION  TASSELED_WETNESS  \\\n0                0.039                0.609             0.770   \n1                0.040                0.676             0.788   \n2                0.199                0.678             0.727   \n3                0.244                0.682             0.680   \n4                0.177                0.681             0.713   \n\n   TRANSFORMED_NDVI   TVI  VARIGREEN  WDRVI  NDBI    BU  MNDWI  \n0             0.347 0.487      0.618  0.347 0.474 0.606  0.684  \n1             0.552 0.461      0.648  0.552 0.318 0.398  0.683  \n2             0.520 0.614      0.484  0.520 0.411 0.474  0.513  \n3             0.534 0.578      0.520  0.534 0.459 0.498  0.472  \n4             0.542 0.591      0.506  0.542 0.422 0.470  0.495  \n\n[5 rows x 89 columns]",
      "text/html": "<div>\n<style scoped>\n    .dataframe tbody tr th:only-of-type {\n        vertical-align: middle;\n    }\n\n    .dataframe tbody tr th {\n        vertical-align: top;\n    }\n\n    .dataframe thead th {\n        text-align: right;\n    }\n</style>\n<table border=\"1\" class=\"dataframe\">\n  <thead>\n    <tr style=\"text-align: right;\">\n      <th></th>\n      <th>COASTAL</th>\n      <th>BLUE</th>\n      <th>GREEN</th>\n      <th>RED</th>\n      <th>NIR</th>\n      <th>SWIR1</th>\n      <th>SWIR2</th>\n      <th>QUALITY</th>\n      <th>NDVI</th>\n      <th>ATSAVI</th>\n      <th>...</th>\n      <th>TASSELED_BRIGHTNESS</th>\n      <th>TASSELED_VEGETATION</th>\n      <th>TASSELED_WETNESS</th>\n      <th>TRANSFORMED_NDVI</th>\n      <th>TVI</th>\n      <th>VARIGREEN</th>\n      <th>WDRVI</th>\n      <th>NDBI</th>\n      <th>BU</th>\n      <th>MNDWI</th>\n    </tr>\n  </thead>\n  <tbody>\n    <tr>\n      <th>0</th>\n      <td>0.033</td>\n      <td>0.033</td>\n      <td>0.039</td>\n      <td>0.035</td>\n      <td>0.066</td>\n      <td>0.057</td>\n      <td>0.036</td>\n      <td>0.000</td>\n      <td>0.347</td>\n      <td>0.072</td>\n      <td>...</td>\n      <td>0.039</td>\n      <td>0.609</td>\n      <td>0.770</td>\n      <td>0.347</td>\n      <td>0.487</td>\n      <td>0.618</td>\n      <td>0.347</td>\n      <td>0.474</td>\n      <td>0.606</td>\n      <td>0.684</td>\n    </tr>\n    <tr>\n      <th>1</th>\n      <td>0.019</td>\n      <td>0.016</td>\n      <td>0.024</td>\n      <td>0.017</td>\n      <td>0.105</td>\n      <td>0.042</td>\n      <td>0.019</td>\n      <td>0.000</td>\n      <td>0.552</td>\n      <td>0.121</td>\n      <td>...</td>\n      <td>0.040</td>\n      <td>0.676</td>\n      <td>0.788</td>\n      <td>0.552</td>\n      <td>0.461</td>\n      <td>0.648</td>\n      <td>0.552</td>\n      <td>0.318</td>\n      <td>0.398</td>\n      <td>0.683</td>\n    </tr>\n    <tr>\n      <th>2</th>\n      <td>0.118</td>\n      <td>0.132</td>\n      <td>0.132</td>\n      <td>0.156</td>\n      <td>0.316</td>\n      <td>0.241</td>\n      <td>0.208</td>\n      <td>0.000</td>\n      <td>0.520</td>\n      <td>0.335</td>\n      <td>...</td>\n      <td>0.199</td>\n      <td>0.678</td>\n      <td>0.727</td>\n      <td>0.520</td>\n      <td>0.614</td>\n      <td>0.484</td>\n      <td>0.520</td>\n      <td>0.411</td>\n      <td>0.474</td>\n      <td>0.513</td>\n    </tr>\n    <tr>\n      <th>3</th>\n      <td>0.132</td>\n      <td>0.160</td>\n      <td>0.172</td>\n      <td>0.185</td>\n      <td>0.373</td>\n      <td>0.326</td>\n      <td>0.284</td>\n      <td>0.000</td>\n      <td>0.534</td>\n      <td>0.396</td>\n      <td>...</td>\n      <td>0.244</td>\n      <td>0.682</td>\n      <td>0.680</td>\n      <td>0.534</td>\n      <td>0.578</td>\n      <td>0.520</td>\n      <td>0.534</td>\n      <td>0.459</td>\n      <td>0.498</td>\n      <td>0.472</td>\n    </tr>\n    <tr>\n      <th>4</th>\n      <td>0.088</td>\n      <td>0.114</td>\n      <td>0.113</td>\n      <td>0.129</td>\n      <td>0.287</td>\n      <td>0.224</td>\n      <td>0.212</td>\n      <td>0.000</td>\n      <td>0.542</td>\n      <td>0.308</td>\n      <td>...</td>\n      <td>0.177</td>\n      <td>0.681</td>\n      <td>0.713</td>\n      <td>0.542</td>\n      <td>0.591</td>\n      <td>0.506</td>\n      <td>0.542</td>\n      <td>0.422</td>\n      <td>0.470</td>\n      <td>0.495</td>\n    </tr>\n  </tbody>\n</table>\n<p>5 rows × 89 columns</p>\n</div>"
     },
     "execution_count": 129,
     "metadata": {},
     "output_type": "execute_result"
    }
   ],
   "source": [
    "bogota_2018.dataframe = transformed_df\n",
    "bogota_2018.dataframe.head()"
   ]
  },
  {
   "cell_type": "markdown",
   "metadata": {
    "pycharm": {
     "name": "#%% md\n"
    }
   },
   "source": [
    "###### Memory usage after Feature Engineering\n",
    "The process of feature engineering will increase you memory usage. You should be aware of this when you run your\n",
    "processes.\n",
    "The good part is that some indexes are highly correlated but we will work with them on feature selection.\n"
   ]
  },
  {
   "cell_type": "code",
   "execution_count": 130,
   "metadata": {
    "pycharm": {
     "name": "#%%\n"
    }
   },
   "outputs": [
    {
     "name": "stdout",
     "output_type": "stream",
     "text": [
      "<class 'pandas.core.frame.DataFrame'>\n",
      "RangeIndex: 1177050 entries, 0 to 1177049\n",
      "Data columns (total 89 columns):\n",
      " #   Column               Non-Null Count    Dtype  \n",
      "---  ------               --------------    -----  \n",
      " 0   COASTAL              1177050 non-null  float64\n",
      " 1   BLUE                 1177050 non-null  float64\n",
      " 2   GREEN                1177050 non-null  float64\n",
      " 3   RED                  1177050 non-null  float64\n",
      " 4   NIR                  1177050 non-null  float64\n",
      " 5   SWIR1                1177050 non-null  float64\n",
      " 6   SWIR2                1177050 non-null  float64\n",
      " 7   QUALITY              1177050 non-null  float64\n",
      " 8   NDVI                 1177050 non-null  float64\n",
      " 9   ATSAVI               1177050 non-null  float64\n",
      " 10  AFRI1600             1177050 non-null  float64\n",
      " 11  ALTERATION           1177050 non-null  float64\n",
      " 12  AVI                  1177050 non-null  float64\n",
      " 13  ARVI2                1177050 non-null  float64\n",
      " 14  BWDRVI               1177050 non-null  float64\n",
      " 15  CIGREEN              1177050 non-null  float64\n",
      " 16  CVI                  1177050 non-null  float64\n",
      " 17  CI                   1177050 non-null  float64\n",
      " 18  CTVI                 1177050 non-null  float64\n",
      " 19  CRI500               1177050 non-null  float64\n",
      " 20  GDVI                 1177050 non-null  float64\n",
      " 21  DVIMSS               1177050 non-null  float64\n",
      " 22  EVI                  1177050 non-null  float64\n",
      " 23  EVI2                 1177050 non-null  float64\n",
      " 24  EVI22                1177050 non-null  float64\n",
      " 25  FE2PLUS              1177050 non-null  float64\n",
      " 26  FERRICOXIDES         1177050 non-null  float64\n",
      " 27  FERROUS_IRON         1177050 non-null  float64\n",
      " 28  FERROUS_SILICATES    1177050 non-null  float64\n",
      " 29  GEMI                 1177050 non-null  float64\n",
      " 30  GVMI                 1177050 non-null  float64\n",
      " 31  GOSSAN               1177050 non-null  float64\n",
      " 32  GARI                 1177050 non-null  float64\n",
      " 33  GLI                  1177050 non-null  float64\n",
      " 34  GNDVI                1177050 non-null  float64\n",
      " 35  GOSAVI               1177050 non-null  float64\n",
      " 36  GSAVI                1177050 non-null  float64\n",
      " 37  GBNDVI               1177050 non-null  float64\n",
      " 38  GRNDVI               1177050 non-null  float64\n",
      " 39  HUE                  1177050 non-null  float64\n",
      " 40  INTENSITY            1177050 non-null  float64\n",
      " 41  LATERITE             1177050 non-null  float64\n",
      " 42  LOGRATIO             1177050 non-null  float64\n",
      " 43  MCRIG                1177050 non-null  float64\n",
      " 44  MVI                  1177050 non-null  float64\n",
      " 45  MSRNIR_RED           1177050 non-null  float64\n",
      " 46  NORM_R               1177050 non-null  float64\n",
      " 47  NORM_NIR             1177050 non-null  float64\n",
      " 48  NORM_G               1177050 non-null  float64\n",
      " 49  NLI                  1177050 non-null  float64\n",
      " 50  PPR                  1177050 non-null  float64\n",
      " 51  PVR                  1177050 non-null  float64\n",
      " 52  SIWSI                1177050 non-null  float64\n",
      " 53  BDNVI                1177050 non-null  float64\n",
      " 54  MNDVI                1177050 non-null  float64\n",
      " 55  RI                   1177050 non-null  float64\n",
      " 56  NDSI                 1177050 non-null  float64\n",
      " 57  NDVIC                1177050 non-null  float64\n",
      " 58  PNDVI                1177050 non-null  float64\n",
      " 59  RBNDVI               1177050 non-null  float64\n",
      " 60  IF                   1177050 non-null  float64\n",
      " 61  TM5/TM7              1177050 non-null  float64\n",
      " 62  BGI                  1177050 non-null  float64\n",
      " 63  SR550/670            1177050 non-null  float64\n",
      " 64  SR860/550            1177050 non-null  float64\n",
      " 65  RDI                  1177050 non-null  float64\n",
      " 66  SRMIR/RED            1177050 non-null  float64\n",
      " 67  GRVI                 1177050 non-null  float64\n",
      " 68  SRNIR/MIR            1177050 non-null  float64\n",
      " 69  DVI                  1177050 non-null  float64\n",
      " 70  IO                   1177050 non-null  float64\n",
      " 71  RGR                  1177050 non-null  float64\n",
      " 72  SSRED/NIR            1177050 non-null  float64\n",
      " 73  SRSWIR1/NIR          1177050 non-null  float64\n",
      " 74  SARVI2               1177050 non-null  float64\n",
      " 75  SBL                  1177050 non-null  float64\n",
      " 76  SCI                  1177050 non-null  float64\n",
      " 77  SLAVI                1177050 non-null  float64\n",
      " 78  SQRT_NIR/NIR         1177050 non-null  float64\n",
      " 79  TASSELED_BRIGHTNESS  1177050 non-null  float64\n",
      " 80  TASSELED_VEGETATION  1177050 non-null  float64\n",
      " 81  TASSELED_WETNESS     1177050 non-null  float64\n",
      " 82  TRANSFORMED_NDVI     1177050 non-null  float64\n",
      " 83  TVI                  1177050 non-null  float64\n",
      " 84  VARIGREEN            1177050 non-null  float64\n",
      " 85  WDRVI                1177050 non-null  float64\n",
      " 86  NDBI                 1177050 non-null  float64\n",
      " 87  BU                   1177050 non-null  float64\n",
      " 88  MNDWI                1177050 non-null  float64\n",
      "dtypes: float64(89)\n",
      "memory usage: 799.2 MB\n"
     ]
    }
   ],
   "source": [
    "transformed_df.info(memory_usage=True)"
   ]
  },
  {
   "cell_type": "code",
   "execution_count": 131,
   "metadata": {
    "pycharm": {
     "name": "#%%\n"
    }
   },
   "outputs": [],
   "source": [
    "# delete transformed_df to save some memory\n",
    "del transformed_df"
   ]
  },
  {
   "cell_type": "markdown",
   "metadata": {},
   "source": [
    "### READING A VECTORIAL FILE TO PANDAS\n",
    "In this part we are going to use the 2018_binary_cobertures shapefile to predict the land cover. We would use geopandas\n",
    "(geopandas rock) and nothing more. Its important that you be aware that you shouldn´t have polygons or points that\n",
    "intersect, i haven´t create a feature to validate this as in this version i was worried about the analysis, so if you\n",
    " have intercepting or very close polygons be careful."
   ]
  },
  {
   "cell_type": "code",
   "execution_count": 132,
   "metadata": {
    "pycharm": {
     "name": "#%%\n"
    }
   },
   "outputs": [],
   "source": [
    "import geopandas as gpd\n"
   ]
  },
  {
   "cell_type": "code",
   "execution_count": 133,
   "metadata": {
    "pycharm": {
     "name": "#%%\n"
    }
   },
   "outputs": [
    {
     "data": {
      "text/plain": "   id  cobertura  cobertura_  \\\n0   1          1           1   \n1   2          1           1   \n2   3          1           1   \n3   6          1           1   \n4   8          1           1   \n\n                                            geometry  \n0  POLYGON ((600727.3225292085 504618.0127454922,...  \n1  POLYGON ((602970.040888233 508243.0237378108, ...  \n2  POLYGON ((601396.9582027118 509890.9260516567,...  \n3  POLYGON ((597987.0536418259 507064.6145917012,...  \n4  POLYGON ((589833.5846451713 511851.2003137566,...  ",
      "text/html": "<div>\n<style scoped>\n    .dataframe tbody tr th:only-of-type {\n        vertical-align: middle;\n    }\n\n    .dataframe tbody tr th {\n        vertical-align: top;\n    }\n\n    .dataframe thead th {\n        text-align: right;\n    }\n</style>\n<table border=\"1\" class=\"dataframe\">\n  <thead>\n    <tr style=\"text-align: right;\">\n      <th></th>\n      <th>id</th>\n      <th>cobertura</th>\n      <th>cobertura_</th>\n      <th>geometry</th>\n    </tr>\n  </thead>\n  <tbody>\n    <tr>\n      <th>0</th>\n      <td>1</td>\n      <td>1</td>\n      <td>1</td>\n      <td>POLYGON ((600727.3225292085 504618.0127454922,...</td>\n    </tr>\n    <tr>\n      <th>1</th>\n      <td>2</td>\n      <td>1</td>\n      <td>1</td>\n      <td>POLYGON ((602970.040888233 508243.0237378108, ...</td>\n    </tr>\n    <tr>\n      <th>2</th>\n      <td>3</td>\n      <td>1</td>\n      <td>1</td>\n      <td>POLYGON ((601396.9582027118 509890.9260516567,...</td>\n    </tr>\n    <tr>\n      <th>3</th>\n      <td>6</td>\n      <td>1</td>\n      <td>1</td>\n      <td>POLYGON ((597987.0536418259 507064.6145917012,...</td>\n    </tr>\n    <tr>\n      <th>4</th>\n      <td>8</td>\n      <td>1</td>\n      <td>1</td>\n      <td>POLYGON ((589833.5846451713 511851.2003137566,...</td>\n    </tr>\n  </tbody>\n</table>\n</div>"
     },
     "execution_count": 133,
     "metadata": {},
     "output_type": "execute_result"
    }
   ],
   "source": [
    "cobertures = gpd.read_file(r\"..\\data\\original\\vectorial\\reals\\2018_cobertures\\binary\\2018_binary_cobertures.shp\")\n",
    "cobertures.head()"
   ]
  },
  {
   "cell_type": "markdown",
   "metadata": {
    "pycharm": {
     "name": "#%% md\n"
    }
   },
   "source": [
    "*cobertura_* its a binary land cover where 1 indicates buildings and 0 indicates no buildings.\n",
    "\n",
    "In this case *cobertura* is a more specific land cover, it separates the coberture on: Buildings, Forest, Agricultural\n",
    "soils, water and other land cover.\n",
    "\n",
    "For this initial part of the analysis we are going to work with *cobertura_* as it will allow us to perform\n",
    "some binary clasiffication algorithms that i have found dificult to encounter on GIS software.\n",
    "\n",
    "BTW: If you find this classifiers on any GIS software let me now.\n"
   ]
  },
  {
   "cell_type": "code",
   "execution_count": 134,
   "metadata": {
    "pycharm": {
     "name": "#%%\n"
    }
   },
   "outputs": [],
   "source": [
    "bogota_2018.coberture_to_pandas(cobertures, \"cobertura_\")\n"
   ]
  },
  {
   "cell_type": "markdown",
   "metadata": {
    "pycharm": {
     "name": "#%% md\n"
    }
   },
   "source": [
    "That´s it. Now lets see what we got.\n"
   ]
  },
  {
   "cell_type": "code",
   "execution_count": 135,
   "metadata": {
    "pycharm": {
     "name": "#%%\n"
    }
   },
   "outputs": [
    {
     "data": {
      "text/plain": "   COASTAL  BLUE  GREEN   RED   NIR  SWIR1  SWIR2  QUALITY  NDVI  ATSAVI  ...  \\\n0    0.033 0.033  0.039 0.035 0.066  0.057  0.036    0.000 0.347   0.072  ...   \n1    0.019 0.016  0.024 0.017 0.105  0.042  0.019    0.000 0.552   0.121  ...   \n2    0.118 0.132  0.132 0.156 0.316  0.241  0.208    0.000 0.520   0.335  ...   \n3    0.132 0.160  0.172 0.185 0.373  0.326  0.284    0.000 0.534   0.396  ...   \n4    0.088 0.114  0.113 0.129 0.287  0.224  0.212    0.000 0.542   0.308  ...   \n\n   TASSELED_VEGETATION  TASSELED_WETNESS  TRANSFORMED_NDVI   TVI  VARIGREEN  \\\n0                0.609             0.770             0.347 0.487      0.618   \n1                0.676             0.788             0.552 0.461      0.648   \n2                0.678             0.727             0.520 0.614      0.484   \n3                0.682             0.680             0.534 0.578      0.520   \n4                0.681             0.713             0.542 0.591      0.506   \n\n   WDRVI  NDBI    BU  MNDWI  COBERTURE  \n0  0.347 0.474 0.606  0.684      -9999  \n1  0.552 0.318 0.398  0.683      -9999  \n2  0.520 0.411 0.474  0.513      -9999  \n3  0.534 0.459 0.498  0.472      -9999  \n4  0.542 0.422 0.470  0.495      -9999  \n\n[5 rows x 90 columns]",
      "text/html": "<div>\n<style scoped>\n    .dataframe tbody tr th:only-of-type {\n        vertical-align: middle;\n    }\n\n    .dataframe tbody tr th {\n        vertical-align: top;\n    }\n\n    .dataframe thead th {\n        text-align: right;\n    }\n</style>\n<table border=\"1\" class=\"dataframe\">\n  <thead>\n    <tr style=\"text-align: right;\">\n      <th></th>\n      <th>COASTAL</th>\n      <th>BLUE</th>\n      <th>GREEN</th>\n      <th>RED</th>\n      <th>NIR</th>\n      <th>SWIR1</th>\n      <th>SWIR2</th>\n      <th>QUALITY</th>\n      <th>NDVI</th>\n      <th>ATSAVI</th>\n      <th>...</th>\n      <th>TASSELED_VEGETATION</th>\n      <th>TASSELED_WETNESS</th>\n      <th>TRANSFORMED_NDVI</th>\n      <th>TVI</th>\n      <th>VARIGREEN</th>\n      <th>WDRVI</th>\n      <th>NDBI</th>\n      <th>BU</th>\n      <th>MNDWI</th>\n      <th>COBERTURE</th>\n    </tr>\n  </thead>\n  <tbody>\n    <tr>\n      <th>0</th>\n      <td>0.033</td>\n      <td>0.033</td>\n      <td>0.039</td>\n      <td>0.035</td>\n      <td>0.066</td>\n      <td>0.057</td>\n      <td>0.036</td>\n      <td>0.000</td>\n      <td>0.347</td>\n      <td>0.072</td>\n      <td>...</td>\n      <td>0.609</td>\n      <td>0.770</td>\n      <td>0.347</td>\n      <td>0.487</td>\n      <td>0.618</td>\n      <td>0.347</td>\n      <td>0.474</td>\n      <td>0.606</td>\n      <td>0.684</td>\n      <td>-9999</td>\n    </tr>\n    <tr>\n      <th>1</th>\n      <td>0.019</td>\n      <td>0.016</td>\n      <td>0.024</td>\n      <td>0.017</td>\n      <td>0.105</td>\n      <td>0.042</td>\n      <td>0.019</td>\n      <td>0.000</td>\n      <td>0.552</td>\n      <td>0.121</td>\n      <td>...</td>\n      <td>0.676</td>\n      <td>0.788</td>\n      <td>0.552</td>\n      <td>0.461</td>\n      <td>0.648</td>\n      <td>0.552</td>\n      <td>0.318</td>\n      <td>0.398</td>\n      <td>0.683</td>\n      <td>-9999</td>\n    </tr>\n    <tr>\n      <th>2</th>\n      <td>0.118</td>\n      <td>0.132</td>\n      <td>0.132</td>\n      <td>0.156</td>\n      <td>0.316</td>\n      <td>0.241</td>\n      <td>0.208</td>\n      <td>0.000</td>\n      <td>0.520</td>\n      <td>0.335</td>\n      <td>...</td>\n      <td>0.678</td>\n      <td>0.727</td>\n      <td>0.520</td>\n      <td>0.614</td>\n      <td>0.484</td>\n      <td>0.520</td>\n      <td>0.411</td>\n      <td>0.474</td>\n      <td>0.513</td>\n      <td>-9999</td>\n    </tr>\n    <tr>\n      <th>3</th>\n      <td>0.132</td>\n      <td>0.160</td>\n      <td>0.172</td>\n      <td>0.185</td>\n      <td>0.373</td>\n      <td>0.326</td>\n      <td>0.284</td>\n      <td>0.000</td>\n      <td>0.534</td>\n      <td>0.396</td>\n      <td>...</td>\n      <td>0.682</td>\n      <td>0.680</td>\n      <td>0.534</td>\n      <td>0.578</td>\n      <td>0.520</td>\n      <td>0.534</td>\n      <td>0.459</td>\n      <td>0.498</td>\n      <td>0.472</td>\n      <td>-9999</td>\n    </tr>\n    <tr>\n      <th>4</th>\n      <td>0.088</td>\n      <td>0.114</td>\n      <td>0.113</td>\n      <td>0.129</td>\n      <td>0.287</td>\n      <td>0.224</td>\n      <td>0.212</td>\n      <td>0.000</td>\n      <td>0.542</td>\n      <td>0.308</td>\n      <td>...</td>\n      <td>0.681</td>\n      <td>0.713</td>\n      <td>0.542</td>\n      <td>0.591</td>\n      <td>0.506</td>\n      <td>0.542</td>\n      <td>0.422</td>\n      <td>0.470</td>\n      <td>0.495</td>\n      <td>-9999</td>\n    </tr>\n  </tbody>\n</table>\n<p>5 rows × 90 columns</p>\n</div>"
     },
     "execution_count": 135,
     "metadata": {},
     "output_type": "execute_result"
    }
   ],
   "source": [
    "bogota_2018.dataframe.head(5)\n",
    "\n",
    "# TODO visualizar la imagen"
   ]
  },
  {
   "cell_type": "markdown",
   "metadata": {
    "pycharm": {
     "name": "#%% md\n"
    }
   },
   "source": [
    "wait what? *COBERTURE* has -9999 values? that should´n be good right?, actually it is. -9999 its the default for no data you can use\n",
    "your own configuration there as coberture_to_pandas has a fillna attribute.\n",
    "So What the fuck its going on here? its really simple. EXPLAIN with graphics\n"
   ]
  },
  {
   "cell_type": "markdown",
   "metadata": {
    "pycharm": {
     "name": "#%% md\n"
    }
   },
   "source": [
    "We will discard all of the rows where we have no data and perform our analysis only on the pixels where we have a known\n",
    "coberture."
   ]
  },
  {
   "cell_type": "code",
   "execution_count": 136,
   "metadata": {
    "pycharm": {
     "name": "#%%\n"
    }
   },
   "outputs": [
    {
     "data": {
      "text/plain": "       COASTAL  BLUE  GREEN   RED   NIR  SWIR1  SWIR2  QUALITY  NDVI  ATSAVI  \\\n18789    0.021 0.021  0.032 0.030 0.155  0.072  0.044    0.000 0.616   0.176   \n18790    0.021 0.021  0.033 0.029 0.105  0.075  0.032    0.000 0.499   0.118   \n18791    0.021 0.020  0.030 0.030 0.099  0.075  0.032    0.000 0.478   0.111   \n18792    0.021 0.020  0.028 0.029 0.126  0.055  0.038    0.000 0.554   0.142   \n18793    0.020 0.020  0.031 0.027 0.123  0.053  0.032    0.000 0.556   0.140   \n\n       ...  TASSELED_VEGETATION  TASSELED_WETNESS  TRANSFORMED_NDVI   TVI  \\\n18789  ...                0.709             0.780             0.616 0.501   \n18790  ...                0.663             0.768             0.499 0.485   \n18791  ...                0.657             0.765             0.478 0.504   \n18792  ...                0.682             0.784             0.554 0.514   \n18793  ...                0.681             0.786             0.556 0.489   \n\n       VARIGREEN  WDRVI  NDBI    BU  MNDWI  COBERTURE  \n18789      0.600  0.616 0.310 0.358  0.604          0  \n18790      0.617  0.499 0.424 0.494  0.601          0  \n18791      0.597  0.478 0.440 0.515  0.590          0  \n18792      0.587  0.554 0.315 0.395  0.651          0  \n18793      0.614  0.556 0.316 0.394  0.664          0  \n\n[5 rows x 90 columns]",
      "text/html": "<div>\n<style scoped>\n    .dataframe tbody tr th:only-of-type {\n        vertical-align: middle;\n    }\n\n    .dataframe tbody tr th {\n        vertical-align: top;\n    }\n\n    .dataframe thead th {\n        text-align: right;\n    }\n</style>\n<table border=\"1\" class=\"dataframe\">\n  <thead>\n    <tr style=\"text-align: right;\">\n      <th></th>\n      <th>COASTAL</th>\n      <th>BLUE</th>\n      <th>GREEN</th>\n      <th>RED</th>\n      <th>NIR</th>\n      <th>SWIR1</th>\n      <th>SWIR2</th>\n      <th>QUALITY</th>\n      <th>NDVI</th>\n      <th>ATSAVI</th>\n      <th>...</th>\n      <th>TASSELED_VEGETATION</th>\n      <th>TASSELED_WETNESS</th>\n      <th>TRANSFORMED_NDVI</th>\n      <th>TVI</th>\n      <th>VARIGREEN</th>\n      <th>WDRVI</th>\n      <th>NDBI</th>\n      <th>BU</th>\n      <th>MNDWI</th>\n      <th>COBERTURE</th>\n    </tr>\n  </thead>\n  <tbody>\n    <tr>\n      <th>18789</th>\n      <td>0.021</td>\n      <td>0.021</td>\n      <td>0.032</td>\n      <td>0.030</td>\n      <td>0.155</td>\n      <td>0.072</td>\n      <td>0.044</td>\n      <td>0.000</td>\n      <td>0.616</td>\n      <td>0.176</td>\n      <td>...</td>\n      <td>0.709</td>\n      <td>0.780</td>\n      <td>0.616</td>\n      <td>0.501</td>\n      <td>0.600</td>\n      <td>0.616</td>\n      <td>0.310</td>\n      <td>0.358</td>\n      <td>0.604</td>\n      <td>0</td>\n    </tr>\n    <tr>\n      <th>18790</th>\n      <td>0.021</td>\n      <td>0.021</td>\n      <td>0.033</td>\n      <td>0.029</td>\n      <td>0.105</td>\n      <td>0.075</td>\n      <td>0.032</td>\n      <td>0.000</td>\n      <td>0.499</td>\n      <td>0.118</td>\n      <td>...</td>\n      <td>0.663</td>\n      <td>0.768</td>\n      <td>0.499</td>\n      <td>0.485</td>\n      <td>0.617</td>\n      <td>0.499</td>\n      <td>0.424</td>\n      <td>0.494</td>\n      <td>0.601</td>\n      <td>0</td>\n    </tr>\n    <tr>\n      <th>18791</th>\n      <td>0.021</td>\n      <td>0.020</td>\n      <td>0.030</td>\n      <td>0.030</td>\n      <td>0.099</td>\n      <td>0.075</td>\n      <td>0.032</td>\n      <td>0.000</td>\n      <td>0.478</td>\n      <td>0.111</td>\n      <td>...</td>\n      <td>0.657</td>\n      <td>0.765</td>\n      <td>0.478</td>\n      <td>0.504</td>\n      <td>0.597</td>\n      <td>0.478</td>\n      <td>0.440</td>\n      <td>0.515</td>\n      <td>0.590</td>\n      <td>0</td>\n    </tr>\n    <tr>\n      <th>18792</th>\n      <td>0.021</td>\n      <td>0.020</td>\n      <td>0.028</td>\n      <td>0.029</td>\n      <td>0.126</td>\n      <td>0.055</td>\n      <td>0.038</td>\n      <td>0.000</td>\n      <td>0.554</td>\n      <td>0.142</td>\n      <td>...</td>\n      <td>0.682</td>\n      <td>0.784</td>\n      <td>0.554</td>\n      <td>0.514</td>\n      <td>0.587</td>\n      <td>0.554</td>\n      <td>0.315</td>\n      <td>0.395</td>\n      <td>0.651</td>\n      <td>0</td>\n    </tr>\n    <tr>\n      <th>18793</th>\n      <td>0.020</td>\n      <td>0.020</td>\n      <td>0.031</td>\n      <td>0.027</td>\n      <td>0.123</td>\n      <td>0.053</td>\n      <td>0.032</td>\n      <td>0.000</td>\n      <td>0.556</td>\n      <td>0.140</td>\n      <td>...</td>\n      <td>0.681</td>\n      <td>0.786</td>\n      <td>0.556</td>\n      <td>0.489</td>\n      <td>0.614</td>\n      <td>0.556</td>\n      <td>0.316</td>\n      <td>0.394</td>\n      <td>0.664</td>\n      <td>0</td>\n    </tr>\n  </tbody>\n</table>\n<p>5 rows × 90 columns</p>\n</div>"
     },
     "execution_count": 136,
     "metadata": {},
     "output_type": "execute_result"
    }
   ],
   "source": [
    "play_df = bogota_2018.select_df_of_cobertures()\n",
    "play_df.head()"
   ]
  },
  {
   "cell_type": "markdown",
   "metadata": {
    "pycharm": {
     "name": "#%% md\n"
    }
   },
   "source": [
    "And like the great Miranda Priesly used to say. That's all. Now we can play with scikit learn."
   ]
  },
  {
   "cell_type": "code",
   "execution_count": 137,
   "metadata": {
    "pycharm": {
     "name": "#%%\n"
    }
   },
   "outputs": [
    {
     "data": {
      "text/plain": "((2016, 89), (2016,))"
     },
     "execution_count": 137,
     "metadata": {},
     "output_type": "execute_result"
    }
   ],
   "source": [
    "x = play_df.drop([\"COBERTURE\"], axis=1)\n",
    "y = play_df[\"COBERTURE\"].copy()\n",
    "x.shape, y.shape\n"
   ]
  },
  {
   "cell_type": "markdown",
   "metadata": {
    "pycharm": {
     "name": "#%% md\n"
    }
   },
   "source": [
    "### STRATIFIED DATA SPLITTING\n",
    "This example is something nice because the amount of pixels of both land covers its unbalanced. Unbalanced\n",
    "datasets are a challenge in ML and there are several methods for dealing with them, I am gonna use the most practical for\n",
    "our scenario: `StatifiedShuffleSplit`.\n",
    "\n",
    "If you don´t know what it does i will try to explain easily, `StratifiedShuffleSplit` does an stratified split of your\n",
    "data (lol), but it is shuffle several times. Its almost always guaranteed that it will keep the same amount of values of the\n",
    "target in both training and testing dataset.\n",
    "\n",
    "You can accomplish something similar with `train_test_split` but i like to shuffle the dataset in order to mess things\n",
    "a little bit."
   ]
  },
  {
   "cell_type": "code",
   "execution_count": 138,
   "metadata": {
    "pycharm": {
     "name": "#%%\n"
    }
   },
   "outputs": [],
   "source": [
    "from sklearn.model_selection import StratifiedShuffleSplit\n",
    "sss = StratifiedShuffleSplit(n_splits=5, test_size=0.20, random_state=0)\n"
   ]
  },
  {
   "cell_type": "code",
   "execution_count": 139,
   "metadata": {
    "pycharm": {
     "name": "#%%\n"
    }
   },
   "outputs": [],
   "source": [
    "for train_index, test_index in sss.split(x, y):\n",
    "    X_train_original, X_test_original = x.iloc[train_index], x.iloc[test_index]\n",
    "    y_train_original, y_test_original = y.iloc[train_index], y.iloc[test_index]\n"
   ]
  },
  {
   "cell_type": "code",
   "execution_count": 140,
   "metadata": {
    "pycharm": {
     "name": "#%%\n"
    }
   },
   "outputs": [
    {
     "data": {
      "text/plain": "(404,)"
     },
     "execution_count": 140,
     "metadata": {},
     "output_type": "execute_result"
    }
   ],
   "source": [
    "y_test_original.shape\n"
   ]
  },
  {
   "cell_type": "code",
   "execution_count": 141,
   "metadata": {
    "pycharm": {
     "name": "#%%\n"
    }
   },
   "outputs": [
    {
     "data": {
      "text/plain": "   COBERTURE\n0      0.743\n1      0.257",
      "text/html": "<div>\n<style scoped>\n    .dataframe tbody tr th:only-of-type {\n        vertical-align: middle;\n    }\n\n    .dataframe tbody tr th {\n        vertical-align: top;\n    }\n\n    .dataframe thead th {\n        text-align: right;\n    }\n</style>\n<table border=\"1\" class=\"dataframe\">\n  <thead>\n    <tr style=\"text-align: right;\">\n      <th></th>\n      <th>COBERTURE</th>\n    </tr>\n  </thead>\n  <tbody>\n    <tr>\n      <th>0</th>\n      <td>0.743</td>\n    </tr>\n    <tr>\n      <th>1</th>\n      <td>0.257</td>\n    </tr>\n  </tbody>\n</table>\n</div>"
     },
     "execution_count": 141,
     "metadata": {},
     "output_type": "execute_result"
    }
   ],
   "source": [
    "porcentage_test = y_test_original.value_counts(normalize=True).to_frame()\n",
    "porcentage_test"
   ]
  },
  {
   "cell_type": "code",
   "execution_count": 142,
   "metadata": {
    "pycharm": {
     "name": "#%%\n"
    }
   },
   "outputs": [
    {
     "data": {
      "text/plain": "   COBERTURE\n0      0.742\n1      0.258",
      "text/html": "<div>\n<style scoped>\n    .dataframe tbody tr th:only-of-type {\n        vertical-align: middle;\n    }\n\n    .dataframe tbody tr th {\n        vertical-align: top;\n    }\n\n    .dataframe thead th {\n        text-align: right;\n    }\n</style>\n<table border=\"1\" class=\"dataframe\">\n  <thead>\n    <tr style=\"text-align: right;\">\n      <th></th>\n      <th>COBERTURE</th>\n    </tr>\n  </thead>\n  <tbody>\n    <tr>\n      <th>0</th>\n      <td>0.742</td>\n    </tr>\n    <tr>\n      <th>1</th>\n      <td>0.258</td>\n    </tr>\n  </tbody>\n</table>\n</div>"
     },
     "execution_count": 142,
     "metadata": {},
     "output_type": "execute_result"
    }
   ],
   "source": [
    "porcentage_train = y_train_original.value_counts(normalize=True).to_frame()\n",
    "porcentage_train"
   ]
  },
  {
   "cell_type": "code",
   "execution_count": 143,
   "metadata": {
    "pycharm": {
     "name": "#%%\n"
    }
   },
   "outputs": [
    {
     "data": {
      "text/plain": "<matplotlib.axes._subplots.AxesSubplot at 0x1891afa0b70>"
     },
     "execution_count": 143,
     "metadata": {},
     "output_type": "execute_result"
    },
    {
     "data": {
      "text/plain": "<Figure size 432x288 with 1 Axes>",
      "image/png": "[encoded data removed]"
     },
     "metadata": {
      "needs_background": "light"
     },
     "output_type": "display_data"
    }
   ],
   "source": [
    "tmp = pd.concat([porcentage_train, porcentage_test], axis=1)\n",
    "tmp.columns = [\"TRAIN\", \"TEST\"]\n",
    "tmp.plot.bar(title=\"Amount of pixels within the train and test datasets\")"
   ]
  },
  {
   "cell_type": "markdown",
   "metadata": {
    "pycharm": {
     "name": "#%% md\n"
    }
   },
   "source": [
    "### PERFORMING FEATURE SELECTION"
   ]
  },
  {
   "cell_type": "markdown",
   "metadata": {
    "pycharm": {
     "name": "#%% md\n"
    }
   },
   "source": [
    "Feature selection is the procces of selecting a subset of relevant features or predictors for use\n",
    "in Machine Learning. This process is key in Machine learning and the impact in performance of a model\n",
    "its really big.\n",
    "\n",
    "for more info visit: [this site](https://towardsdatascience.com/feature-selection-techniques-in-machine-learning-with-python-f24e7da3f36e#:~:text=Feature%20Selection%20is%20the%20process,learn%20based%20on%20irrelevant%20features.)\n",
    "\n",
    "**Important:** Again, sorry if i am been annoying but, if you want to reproduce this with a linear model you should\n",
    "do a little more Feature Engineering\n",
    "\n",
    "I would use 2 tecniques here for feature selection:\n",
    "* Filter methods.\n",
    "* Embeddeb methods."
   ]
  },
  {
   "cell_type": "markdown",
   "metadata": {
    "pycharm": {
     "name": "#%% md\n"
    }
   },
   "source": [
    "#### Droping constant bands\n",
    "The first one is gonna be made by the use of `VarianceThreshold` to drop constant features, this would tell us with features, have 0 standard\n",
    " deviation (you maybe thinking: Hector is really stupid that doesn´t happen often in S.I, and you are right, in both i am\n",
    " stupid and it doesnt happen that often, BUT, remember there is a feature named: `QUALITY`. Remember the library hopes you used this band in your stack.\n",
    " I will make and example with clouds as well, in the future. Actually the cloud problem was the one that gives me idea\n",
    " of the library)"
   ]
  },
  {
   "cell_type": "code",
   "execution_count": 144,
   "metadata": {
    "pycharm": {
     "name": "#%%\n"
    }
   },
   "outputs": [],
   "source": [
    "from sklearn.feature_selection import VarianceThreshold\n"
   ]
  },
  {
   "cell_type": "code",
   "execution_count": 145,
   "metadata": {
    "pycharm": {
     "name": "#%%\n"
    }
   },
   "outputs": [
    {
     "data": {
      "text/plain": "VarianceThreshold(threshold=0)"
     },
     "execution_count": 145,
     "metadata": {},
     "output_type": "execute_result"
    }
   ],
   "source": [
    "selection = VarianceThreshold(threshold=0)\n",
    "selection.fit(X_train_original)\n",
    "\n"
   ]
  },
  {
   "cell_type": "code",
   "execution_count": 146,
   "metadata": {
    "pycharm": {
     "name": "#%%\n"
    }
   },
   "outputs": [
    {
     "data": {
      "text/plain": "(89, 89)"
     },
     "execution_count": 146,
     "metadata": {},
     "output_type": "execute_result"
    }
   ],
   "source": [
    "# now how many features we have to drop\n",
    "sum(selection.get_support()), X_train_original.shape[1]"
   ]
  },
  {
   "cell_type": "markdown",
   "metadata": {
    "pycharm": {
     "name": "#%% md\n"
    }
   },
   "source": [
    "In this case we don´t have to drop any column, but if your image is really good im sure the feature will say adieuuuu."
   ]
  },
  {
   "cell_type": "code",
   "execution_count": 147,
   "metadata": {
    "pycharm": {
     "name": "#%%\n"
    }
   },
   "outputs": [
    {
     "data": {
      "text/plain": "Index(['COASTAL', 'BLUE', 'GREEN', 'RED', 'NIR', 'SWIR1', 'SWIR2', 'QUALITY',\n       'NDVI', 'ATSAVI', 'AFRI1600', 'ALTERATION', 'AVI', 'ARVI2', 'BWDRVI',\n       'CIGREEN', 'CVI', 'CI', 'CTVI', 'CRI500', 'GDVI', 'DVIMSS', 'EVI',\n       'EVI2', 'EVI22', 'FE2PLUS', 'FERRICOXIDES', 'FERROUS_IRON',\n       'FERROUS_SILICATES', 'GEMI', 'GVMI', 'GOSSAN', 'GARI', 'GLI', 'GNDVI',\n       'GOSAVI', 'GSAVI', 'GBNDVI', 'GRNDVI', 'HUE', 'INTENSITY', 'LATERITE',\n       'LOGRATIO', 'MCRIG', 'MVI', 'MSRNIR_RED', 'NORM_R', 'NORM_NIR',\n       'NORM_G', 'NLI', 'PPR', 'PVR', 'SIWSI', 'BDNVI', 'MNDVI', 'RI', 'NDSI',\n       'NDVIC', 'PNDVI', 'RBNDVI', 'IF', 'TM5/TM7', 'BGI', 'SR550/670',\n       'SR860/550', 'RDI', 'SRMIR/RED', 'GRVI', 'SRNIR/MIR', 'DVI', 'IO',\n       'RGR', 'SSRED/NIR', 'SRSWIR1/NIR', 'SARVI2', 'SBL', 'SCI', 'SLAVI',\n       'SQRT_NIR/NIR', 'TASSELED_BRIGHTNESS', 'TASSELED_VEGETATION',\n       'TASSELED_WETNESS', 'TRANSFORMED_NDVI', 'TVI', 'VARIGREEN', 'WDRVI',\n       'NDBI', 'BU', 'MNDWI'],\n      dtype='object')"
     },
     "execution_count": 147,
     "metadata": {},
     "output_type": "execute_result"
    }
   ],
   "source": [
    "keep_feature = X_train_original.columns[selection.get_support()]\n",
    "keep_feature"
   ]
  },
  {
   "cell_type": "code",
   "execution_count": 148,
   "metadata": {
    "pycharm": {
     "name": "#%%\n"
    }
   },
   "outputs": [],
   "source": [
    "X_train = selection.transform(X_train_original)\n",
    "X_test = selection.transform(X_test_original)\n"
   ]
  },
  {
   "cell_type": "code",
   "execution_count": 149,
   "metadata": {
    "pycharm": {
     "name": "#%%\n"
    }
   },
   "outputs": [],
   "source": [
    "X_train = pd.DataFrame(X_train)\n",
    "X_train.columns = keep_feature\n",
    "X_test = pd.DataFrame(X_test)\n",
    "X_test.columns = keep_feature"
   ]
  },
  {
   "cell_type": "code",
   "execution_count": 150,
   "metadata": {
    "pycharm": {
     "name": "#%%\n"
    }
   },
   "outputs": [
    {
     "data": {
      "text/plain": "   COASTAL  BLUE  GREEN   RED   NIR  SWIR1  SWIR2  QUALITY  NDVI  ATSAVI  ...  \\\n0    0.007 0.004  0.007 0.008 0.054  0.037  0.018    0.000 0.433   0.064  ...   \n1    0.066 0.067  0.083 0.089 0.115  0.130  0.114    0.000 0.305   0.117  ...   \n2    0.011 0.009  0.016 0.013 0.134  0.064  0.027    0.000 0.648   0.156  ...   \n3    0.018 0.019  0.026 0.030 0.129  0.085  0.046    0.000 0.558   0.145  ...   \n4    0.012 0.011  0.022 0.016 0.177  0.082  0.035    0.000 0.720   0.204  ...   \n\n   TASSELED_BRIGHTNESS  TASSELED_VEGETATION  TASSELED_WETNESS  \\\n0                0.017                0.642             0.768   \n1                0.090                0.579             0.736   \n2                0.046                0.715             0.776   \n3                0.054                0.687             0.762   \n4                0.063                0.753             0.776   \n\n   TRANSFORMED_NDVI   TVI  VARIGREEN  WDRVI  NDBI    BU  MNDWI  \n0             0.433 0.502      0.605  0.433 0.441 0.540  0.632  \n1             0.305 0.550      0.547  0.305 0.542 0.673  0.607  \n2             0.648 0.478      0.630  0.648 0.325 0.351  0.572  \n3             0.557 0.531      0.569  0.558 0.397 0.446  0.546  \n4             0.720 0.468      0.638  0.720 0.298 0.295  0.536  \n\n[5 rows x 89 columns]",
      "text/html": "<div>\n<style scoped>\n    .dataframe tbody tr th:only-of-type {\n        vertical-align: middle;\n    }\n\n    .dataframe tbody tr th {\n        vertical-align: top;\n    }\n\n    .dataframe thead th {\n        text-align: right;\n    }\n</style>\n<table border=\"1\" class=\"dataframe\">\n  <thead>\n    <tr style=\"text-align: right;\">\n      <th></th>\n      <th>COASTAL</th>\n      <th>BLUE</th>\n      <th>GREEN</th>\n      <th>RED</th>\n      <th>NIR</th>\n      <th>SWIR1</th>\n      <th>SWIR2</th>\n      <th>QUALITY</th>\n      <th>NDVI</th>\n      <th>ATSAVI</th>\n      <th>...</th>\n      <th>TASSELED_BRIGHTNESS</th>\n      <th>TASSELED_VEGETATION</th>\n      <th>TASSELED_WETNESS</th>\n      <th>TRANSFORMED_NDVI</th>\n      <th>TVI</th>\n      <th>VARIGREEN</th>\n      <th>WDRVI</th>\n      <th>NDBI</th>\n      <th>BU</th>\n      <th>MNDWI</th>\n    </tr>\n  </thead>\n  <tbody>\n    <tr>\n      <th>0</th>\n      <td>0.007</td>\n      <td>0.004</td>\n      <td>0.007</td>\n      <td>0.008</td>\n      <td>0.054</td>\n      <td>0.037</td>\n      <td>0.018</td>\n      <td>0.000</td>\n      <td>0.433</td>\n      <td>0.064</td>\n      <td>...</td>\n      <td>0.017</td>\n      <td>0.642</td>\n      <td>0.768</td>\n      <td>0.433</td>\n      <td>0.502</td>\n      <td>0.605</td>\n      <td>0.433</td>\n      <td>0.441</td>\n      <td>0.540</td>\n      <td>0.632</td>\n    </tr>\n    <tr>\n      <th>1</th>\n      <td>0.066</td>\n      <td>0.067</td>\n      <td>0.083</td>\n      <td>0.089</td>\n      <td>0.115</td>\n      <td>0.130</td>\n      <td>0.114</td>\n      <td>0.000</td>\n      <td>0.305</td>\n      <td>0.117</td>\n      <td>...</td>\n      <td>0.090</td>\n      <td>0.579</td>\n      <td>0.736</td>\n      <td>0.305</td>\n      <td>0.550</td>\n      <td>0.547</td>\n      <td>0.305</td>\n      <td>0.542</td>\n      <td>0.673</td>\n      <td>0.607</td>\n    </tr>\n    <tr>\n      <th>2</th>\n      <td>0.011</td>\n      <td>0.009</td>\n      <td>0.016</td>\n      <td>0.013</td>\n      <td>0.134</td>\n      <td>0.064</td>\n      <td>0.027</td>\n      <td>0.000</td>\n      <td>0.648</td>\n      <td>0.156</td>\n      <td>...</td>\n      <td>0.046</td>\n      <td>0.715</td>\n      <td>0.776</td>\n      <td>0.648</td>\n      <td>0.478</td>\n      <td>0.630</td>\n      <td>0.648</td>\n      <td>0.325</td>\n      <td>0.351</td>\n      <td>0.572</td>\n    </tr>\n    <tr>\n      <th>3</th>\n      <td>0.018</td>\n      <td>0.019</td>\n      <td>0.026</td>\n      <td>0.030</td>\n      <td>0.129</td>\n      <td>0.085</td>\n      <td>0.046</td>\n      <td>0.000</td>\n      <td>0.558</td>\n      <td>0.145</td>\n      <td>...</td>\n      <td>0.054</td>\n      <td>0.687</td>\n      <td>0.762</td>\n      <td>0.557</td>\n      <td>0.531</td>\n      <td>0.569</td>\n      <td>0.558</td>\n      <td>0.397</td>\n      <td>0.446</td>\n      <td>0.546</td>\n    </tr>\n    <tr>\n      <th>4</th>\n      <td>0.012</td>\n      <td>0.011</td>\n      <td>0.022</td>\n      <td>0.016</td>\n      <td>0.177</td>\n      <td>0.082</td>\n      <td>0.035</td>\n      <td>0.000</td>\n      <td>0.720</td>\n      <td>0.204</td>\n      <td>...</td>\n      <td>0.063</td>\n      <td>0.753</td>\n      <td>0.776</td>\n      <td>0.720</td>\n      <td>0.468</td>\n      <td>0.638</td>\n      <td>0.720</td>\n      <td>0.298</td>\n      <td>0.295</td>\n      <td>0.536</td>\n    </tr>\n  </tbody>\n</table>\n<p>5 rows × 89 columns</p>\n</div>"
     },
     "execution_count": 150,
     "metadata": {},
     "output_type": "execute_result"
    }
   ],
   "source": [
    "X_train.head()\n"
   ]
  },
  {
   "cell_type": "markdown",
   "metadata": {
    "pycharm": {
     "name": "#%% md\n"
    }
   },
   "source": [
    "### Correlation"
   ]
  },
  {
   "cell_type": "code",
   "execution_count": 151,
   "metadata": {
    "pycharm": {
     "name": "#%%\n"
    }
   },
   "outputs": [],
   "source": [
    "import matplotlib.pyplot as plt\n",
    "%matplotlib inline"
   ]
  },
  {
   "cell_type": "code",
   "execution_count": 152,
   "metadata": {
    "pycharm": {
     "name": "#%%\n"
    }
   },
   "outputs": [
    {
     "data": {
      "text/plain": "<matplotlib.axes._subplots.AxesSubplot at 0x18918bc3ba8>"
     },
     "execution_count": 152,
     "metadata": {},
     "output_type": "execute_result"
    },
    {
     "data": {
      "text/plain": "<Figure size 792x792 with 2 Axes>",
      "image/png": "[encoded data removed]"
     },
     "metadata": {
      "needs_background": "light"
     },
     "output_type": "display_data"
    }
   ],
   "source": [
    "corrmat = X_train.corr()\n",
    "fig, ax = plt.subplots()\n",
    "fig.set_size_inches(11,11)\n",
    "sns.heatmap(corrmat, cmap=\"YlGnBu\")\n",
    "\n"
   ]
  },
  {
   "cell_type": "code",
   "execution_count": 153,
   "metadata": {
    "pycharm": {
     "name": "#%%\n"
    }
   },
   "outputs": [],
   "source": [
    "from sklearn.decomposition import PCA\n",
    "pca = PCA(n_components=4)"
   ]
  },
  {
   "cell_type": "code",
   "execution_count": 154,
   "metadata": {
    "pycharm": {
     "name": "#%%\n"
    }
   },
   "outputs": [],
   "source": [
    "X_train_pca = pca.fit(X_train)\n"
   ]
  },
  {
   "cell_type": "code",
   "execution_count": 155,
   "metadata": {
    "pycharm": {
     "name": "#%%\n"
    }
   },
   "outputs": [],
   "source": [
    "X_train_pca = pca.transform(X_train)\n"
   ]
  },
  {
   "cell_type": "code",
   "execution_count": 156,
   "metadata": {
    "pycharm": {
     "name": "#%%\n"
    }
   },
   "outputs": [
    {
     "data": {
      "text/plain": "array([0.75439939, 0.12301491, 0.05918223, 0.03697163])"
     },
     "execution_count": 156,
     "metadata": {},
     "output_type": "execute_result"
    }
   ],
   "source": [
    "pca.explained_variance_ratio_"
   ]
  },
  {
   "cell_type": "code",
   "execution_count": 157,
   "metadata": {
    "pycharm": {
     "name": "#%%\n"
    }
   },
   "outputs": [],
   "source": [
    "from sklearn.ensemble import RandomForestClassifier\n",
    "from sklearn.feature_selection import SelectFromModel\n",
    "from sklearn.pipeline import Pipeline\n",
    "from sklearn.model_selection import GridSearchCV"
   ]
  },
  {
   "cell_type": "code",
   "execution_count": 158,
   "metadata": {
    "pycharm": {
     "name": "#%%\n"
    }
   },
   "outputs": [],
   "source": [
    "clf = RandomForestClassifier(random_state=42)\n",
    "parameters = {\"criterion\": (\"gini\", \"entropy\"),\n",
    "              \"max_depth\": (2, 3),\n",
    "              \"min_samples_split\": (10, 20),\n",
    "              \"min_samples_leaf\": (10, 20),\n",
    "              \"n_estimators\": (1,100,200),\n",
    "              \"max_leaf_nodes\": (5, 10, 15),\n",
    "              }"
   ]
  },
  {
   "cell_type": "code",
   "execution_count": 159,
   "metadata": {
    "pycharm": {
     "name": "#%%\n"
    }
   },
   "outputs": [],
   "source": [
    "grid = GridSearchCV(estimator=clf, param_grid=parameters, cv=sss, n_jobs=4, scoring=\"f1\")"
   ]
  },
  {
   "cell_type": "code",
   "execution_count": 160,
   "metadata": {
    "pycharm": {
     "name": "#%%\n"
    }
   },
   "outputs": [
    {
     "data": {
      "text/plain": "GridSearchCV(cv=StratifiedShuffleSplit(n_splits=5, random_state=0, test_size=0.2,\n            train_size=None),\n             error_score=nan,\n             estimator=RandomForestClassifier(bootstrap=True, ccp_alpha=0.0,\n                                              class_weight=None,\n                                              criterion='gini', max_depth=None,\n                                              max_features='auto',\n                                              max_leaf_nodes=None,\n                                              max_samples=None,\n                                              min_impurity_decrease=0.0,\n                                              min_impurity_split=None,\n                                              min_samples_leaf=1,...\n                                              n_estimators=100, n_jobs=None,\n                                              oob_score=False, random_state=42,\n                                              verbose=0, warm_start=False),\n             iid='deprecated', n_jobs=4,\n             param_grid={'criterion': ('gini', 'entropy'), 'max_depth': (2, 3),\n                         'max_leaf_nodes': (5, 10, 15),\n                         'min_samples_leaf': (10, 20),\n                         'min_samples_split': (10, 20),\n                         'n_estimators': (1, 100, 200)},\n             pre_dispatch='2*n_jobs', refit=True, return_train_score=False,\n             scoring='f1', verbose=0)"
     },
     "execution_count": 160,
     "metadata": {},
     "output_type": "execute_result"
    }
   ],
   "source": [
    "grid.fit(X_train_pca,y_train_original)\n"
   ]
  },
  {
   "cell_type": "code",
   "execution_count": 161,
   "metadata": {
    "pycharm": {
     "name": "#%%\n"
    }
   },
   "outputs": [
    {
     "data": {
      "text/plain": "RandomForestClassifier(bootstrap=True, ccp_alpha=0.0, class_weight=None,\n                       criterion='entropy', max_depth=2, max_features='auto',\n                       max_leaf_nodes=5, max_samples=None,\n                       min_impurity_decrease=0.0, min_impurity_split=None,\n                       min_samples_leaf=10, min_samples_split=10,\n                       min_weight_fraction_leaf=0.0, n_estimators=100,\n                       n_jobs=None, oob_score=False, random_state=42, verbose=0,\n                       warm_start=False)"
     },
     "execution_count": 161,
     "metadata": {},
     "output_type": "execute_result"
    }
   ],
   "source": [
    "grid.best_estimator_\n"
   ]
  },
  {
   "cell_type": "code",
   "execution_count": 162,
   "metadata": {
    "pycharm": {
     "name": "#%%\n"
    }
   },
   "outputs": [
    {
     "data": {
      "text/plain": "{'criterion': 'entropy',\n 'max_depth': 2,\n 'max_leaf_nodes': 5,\n 'min_samples_leaf': 10,\n 'min_samples_split': 10,\n 'n_estimators': 100}"
     },
     "execution_count": 162,
     "metadata": {},
     "output_type": "execute_result"
    }
   ],
   "source": [
    "grid.best_params_"
   ]
  },
  {
   "cell_type": "code",
   "execution_count": 163,
   "metadata": {
    "pycharm": {
     "name": "#%%\n"
    }
   },
   "outputs": [
    {
     "data": {
      "text/plain": "0.9774429162215788"
     },
     "execution_count": 163,
     "metadata": {},
     "output_type": "execute_result"
    }
   ],
   "source": [
    "grid.best_score_\n"
   ]
  },
  {
   "cell_type": "markdown",
   "metadata": {
    "pycharm": {
     "name": "#%% md\n"
    }
   },
   "source": [
    "Well i'm not really happy with this particular RF as it seems to be overfitting the data, i would´nt use this RF\n",
    "probably i should use a simpler algorithm to accomplish my task, but as this is a demostrative case, i would assume\n",
    "we did a great job!\n",
    "\n"
   ]
  },
  {
   "cell_type": "code",
   "execution_count": 164,
   "metadata": {
    "pycharm": {
     "name": "#%%\n"
    }
   },
   "outputs": [],
   "source": [
    "final_model = grid.best_estimator_"
   ]
  },
  {
   "cell_type": "code",
   "execution_count": 165,
   "metadata": {
    "pycharm": {
     "name": "#%%\n"
    }
   },
   "outputs": [
    {
     "data": {
      "text/plain": "0.989454094292804"
     },
     "execution_count": 165,
     "metadata": {},
     "output_type": "execute_result"
    }
   ],
   "source": [
    "final_model.score(X_train_pca, y_train_original)\n"
   ]
  },
  {
   "cell_type": "code",
   "execution_count": 166,
   "metadata": {
    "pycharm": {
     "name": "#%%\n"
    }
   },
   "outputs": [
    {
     "data": {
      "text/plain": "0.989454094292804"
     },
     "execution_count": 166,
     "metadata": {},
     "output_type": "execute_result"
    }
   ],
   "source": [
    "from sklearn.metrics import accuracy_score\n",
    "y_pred = final_model.predict(X_train_pca)\n",
    "accuracy_score(y_train_original, y_pred)\n"
   ]
  },
  {
   "cell_type": "code",
   "execution_count": 167,
   "metadata": {
    "pycharm": {
     "name": "#%%\n"
    }
   },
   "outputs": [
    {
     "name": "stdout",
     "output_type": "stream",
     "text": [
      "[[1180   16]\n",
      " [   1  415]]\n"
     ]
    }
   ],
   "source": [
    "from sklearn.metrics import confusion_matrix\n",
    "print(confusion_matrix(y_train_original, y_pred))"
   ]
  },
  {
   "cell_type": "code",
   "execution_count": 168,
   "metadata": {
    "pycharm": {
     "name": "#%%\n"
    }
   },
   "outputs": [],
   "source": [
    "X_test = pca.transform(X_test)\n",
    "\n"
   ]
  },
  {
   "cell_type": "code",
   "execution_count": 169,
   "metadata": {
    "pycharm": {
     "name": "#%%\n"
    }
   },
   "outputs": [
    {
     "data": {
      "text/plain": "array([0, 0, 0, 0, 0, 0, 0, 0, 0, 0, 0, 0, 0, 0, 0, 1, 0, 1, 0, 0, 0, 1,\n       0, 1, 0, 0, 1, 0, 1, 1, 1, 1, 0, 0, 0, 0, 1, 0, 0, 0, 0, 0, 0, 0,\n       0, 0, 1, 1, 0, 0, 1, 1, 1, 0, 0, 0, 0, 0, 1, 0, 1, 1, 1, 0, 0, 1,\n       0, 1, 0, 0, 0, 0, 1, 1, 0, 1, 1, 0, 1, 1, 0, 0, 0, 1, 0, 0, 0, 0,\n       1, 1, 0, 0, 0, 0, 1, 0, 0, 0, 0, 0, 0, 0, 1, 1, 0, 0, 0, 1, 1, 0,\n       0, 1, 1, 0, 0, 1, 0, 0, 1, 0, 0, 0, 1, 0, 0, 0, 0, 0, 1, 1, 0, 1,\n       0, 1, 0, 0, 0, 1, 0, 0, 0, 0, 0, 0, 0, 1, 0, 1, 0, 0, 1, 0, 0, 0,\n       0, 0, 0, 1, 0, 0, 1, 0, 0, 1, 1, 0, 0, 1, 0, 1, 0, 1, 1, 0, 1, 1,\n       0, 0, 0, 0, 0, 1, 0, 0, 0, 0, 0, 1, 0, 1, 0, 0, 0, 1, 0, 0, 0, 0,\n       0, 0, 0, 0, 0, 1, 1, 1, 0, 0, 1, 1, 1, 1, 1, 0, 0, 1, 0, 0, 0, 0,\n       1, 0, 0, 0, 0, 0, 0, 0, 0, 0, 0, 0, 1, 0, 1, 0, 1, 0, 0, 0, 0, 0,\n       0, 0, 1, 0, 1, 0, 0, 0, 0, 0, 0, 0, 0, 0, 1, 0, 1, 0, 0, 0, 0, 0,\n       0, 0, 0, 0, 0, 0, 0, 0, 0, 0, 0, 0, 0, 0, 0, 0, 0, 0, 0, 1, 0, 0,\n       0, 1, 0, 1, 1, 0, 1, 0, 0, 0, 1, 0, 0, 0, 0, 0, 0, 1, 1, 1, 0, 1,\n       0, 0, 0, 1, 0, 0, 0, 1, 0, 0, 0, 0, 0, 0, 0, 1, 0, 1, 0, 1, 0, 0,\n       0, 0, 0, 0, 0, 0, 0, 0, 0, 0, 0, 0, 0, 0, 0, 0, 0, 1, 1, 0, 0, 0,\n       0, 0, 0, 0, 0, 0, 0, 1, 0, 0, 0, 1, 1, 1, 0, 0, 0, 1, 0, 1, 0, 0,\n       0, 0, 0, 1, 0, 1, 0, 0, 0, 0, 0, 1, 0, 0, 0, 1, 0, 0, 0, 0, 0, 0,\n       1, 0, 0, 1, 0, 0, 1, 0], dtype=int64)"
     },
     "execution_count": 169,
     "metadata": {},
     "output_type": "execute_result"
    }
   ],
   "source": [
    "final_predictions = final_model.predict(X_test)\n",
    "final_predictions"
   ]
  },
  {
   "cell_type": "code",
   "execution_count": 170,
   "metadata": {
    "pycharm": {
     "name": "#%%\n"
    }
   },
   "outputs": [
    {
     "name": "stdout",
     "output_type": "stream",
     "text": [
      "[[294   6]\n",
      " [  1 103]]\n"
     ]
    }
   ],
   "source": [
    "from sklearn.metrics import confusion_matrix\n",
    "print(confusion_matrix(y_test_original, final_predictions))\n",
    "\n"
   ]
  },
  {
   "cell_type": "code",
   "execution_count": 171,
   "metadata": {
    "pycharm": {
     "name": "#%%\n"
    }
   },
   "outputs": [
    {
     "data": {
      "text/plain": "array([[0.92387606, 0.07612394],\n       [0.97533322, 0.02466678],\n       [0.86447941, 0.13552059],\n       [0.99279359, 0.00720641],\n       [0.99893485, 0.00106515],\n       [0.99695267, 0.00304733],\n       [0.99893485, 0.00106515],\n       [0.99893485, 0.00106515],\n       [0.99695267, 0.00304733],\n       [0.99893485, 0.00106515],\n       [0.99485729, 0.00514271],\n       [0.99893485, 0.00106515],\n       [0.84895399, 0.15104601],\n       [0.98694267, 0.01305733],\n       [0.99893485, 0.00106515],\n       [0.13640618, 0.86359382],\n       [0.97533322, 0.02466678],\n       [0.23886139, 0.76113861],\n       [0.92387606, 0.07612394],\n       [0.99893485, 0.00106515],\n       [0.85111667, 0.14888333],\n       [0.16330159, 0.83669841],\n       [0.86447941, 0.13552059],\n       [0.16330159, 0.83669841],\n       [0.99893485, 0.00106515],\n       [0.86697465, 0.13302535],\n       [0.12088076, 0.87911924],\n       [0.90159594, 0.09840406],\n       [0.12088076, 0.87911924],\n       [0.12088076, 0.87911924],\n       [0.20820907, 0.79179093],\n       [0.12088076, 0.87911924],\n       [0.99485729, 0.00514271],\n       [0.99893485, 0.00106515],\n       [0.97858083, 0.02141917],\n       [0.98855943, 0.01144057],\n       [0.2803294 , 0.7196706 ],\n       [0.99893485, 0.00106515],\n       [0.62749605, 0.37250395],\n       [0.99485729, 0.00514271],\n       [0.8247002 , 0.1752998 ],\n       [0.89652132, 0.10347868],\n       [0.99893485, 0.00106515],\n       [0.99893485, 0.00106515],\n       [0.92387606, 0.07612394],\n       [0.99279359, 0.00720641],\n       [0.12526686, 0.87473314],\n       [0.16330159, 0.83669841],\n       [0.99893485, 0.00106515],\n       [0.99279359, 0.00720641],\n       [0.12088076, 0.87911924],\n       [0.22990063, 0.77009937],\n       [0.12088076, 0.87911924],\n       [0.99893485, 0.00106515],\n       [0.99893485, 0.00106515],\n       [0.92271933, 0.07728067],\n       [0.90693403, 0.09306597],\n       [0.99893485, 0.00106515],\n       [0.24531336, 0.75468664],\n       [0.99893485, 0.00106515],\n       [0.13640618, 0.86359382],\n       [0.1283981 , 0.8716019 ],\n       [0.12088076, 0.87911924],\n       [0.90693403, 0.09306597],\n       [0.99279359, 0.00720641],\n       [0.2143376 , 0.7856624 ],\n       [0.97786437, 0.02213563],\n       [0.12088076, 0.87911924],\n       [0.80966807, 0.19033193],\n       [0.53567283, 0.46432717],\n       [0.99893485, 0.00106515],\n       [0.99893485, 0.00106515],\n       [0.12088076, 0.87911924],\n       [0.12088076, 0.87911924],\n       [0.99893485, 0.00106515],\n       [0.13723423, 0.86276577],\n       [0.16330159, 0.83669841],\n       [0.98694267, 0.01305733],\n       [0.12088076, 0.87911924],\n       [0.12088076, 0.87911924],\n       [0.98694267, 0.01305733],\n       [0.99893485, 0.00106515],\n       [0.99893485, 0.00106515],\n       [0.12526686, 0.87473314],\n       [0.99893485, 0.00106515],\n       [0.92387606, 0.07612394],\n       [0.99893485, 0.00106515],\n       [0.53567283, 0.46432717],\n       [0.25893101, 0.74106899],\n       [0.12088076, 0.87911924],\n       [0.99893485, 0.00106515],\n       [0.85797295, 0.14202705],\n       [0.99893485, 0.00106515],\n       [0.92387606, 0.07612394],\n       [0.12088076, 0.87911924],\n       [0.53567283, 0.46432717],\n       [0.85797295, 0.14202705],\n       [0.99893485, 0.00106515],\n       [0.99695267, 0.00304733],\n       [0.99893485, 0.00106515],\n       [0.99279359, 0.00720641],\n       [0.99893485, 0.00106515],\n       [0.16330159, 0.83669841],\n       [0.12526686, 0.87473314],\n       [0.85905959, 0.14094041],\n       [0.92380337, 0.07619663],\n       [0.99893485, 0.00106515],\n       [0.12088076, 0.87911924],\n       [0.15344204, 0.84655796],\n       [0.99893485, 0.00106515],\n       [0.99893485, 0.00106515],\n       [0.46376579, 0.53623421],\n       [0.12088076, 0.87911924],\n       [0.8965793 , 0.1034207 ],\n       [0.99893485, 0.00106515],\n       [0.14716825, 0.85283175],\n       [0.83732388, 0.16267612],\n       [0.96838152, 0.03161848],\n       [0.12526686, 0.87473314],\n       [0.92387606, 0.07612394],\n       [0.89965256, 0.10034744],\n       [0.99695267, 0.00304733],\n       [0.19668556, 0.80331444],\n       [0.97786437, 0.02213563],\n       [0.99695267, 0.00304733],\n       [0.99893485, 0.00106515],\n       [0.99485729, 0.00514271],\n       [0.99893485, 0.00106515],\n       [0.16330159, 0.83669841],\n       [0.12088076, 0.87911924],\n       [0.89888302, 0.10111698],\n       [0.13723423, 0.86276577],\n       [0.99893485, 0.00106515],\n       [0.26354628, 0.73645372],\n       [0.85334009, 0.14665991],\n       [0.85003263, 0.14996737],\n       [0.86447941, 0.13552059],\n       [0.12088076, 0.87911924],\n       [0.99893485, 0.00106515],\n       [0.99893485, 0.00106515],\n       [0.99695267, 0.00304733],\n       [0.98054858, 0.01945142],\n       [0.98855943, 0.01144057],\n       [0.99893485, 0.00106515],\n       [0.89449556, 0.10550444],\n       [0.12839947, 0.87160053],\n       [0.89888302, 0.10111698],\n       [0.20549615, 0.79450385],\n       [0.89652132, 0.10347868],\n       [0.99695267, 0.00304733],\n       [0.12088076, 0.87911924],\n       [0.85755133, 0.14244867],\n       [0.97786437, 0.02213563],\n       [0.53567283, 0.46432717],\n       [0.89341692, 0.10658308],\n       [0.99893485, 0.00106515],\n       [0.99893485, 0.00106515],\n       [0.29361689, 0.70638311],\n       [0.99893485, 0.00106515],\n       [0.84895399, 0.15104601],\n       [0.12088076, 0.87911924],\n       [0.99893485, 0.00106515],\n       [0.99893485, 0.00106515],\n       [0.12088076, 0.87911924],\n       [0.12787044, 0.87212956],\n       [0.97786437, 0.02213563],\n       [0.97533322, 0.02466678],\n       [0.12088076, 0.87911924],\n       [0.89965256, 0.10034744],\n       [0.12596208, 0.87403792],\n       [0.99893485, 0.00106515],\n       [0.13640618, 0.86359382],\n       [0.12088076, 0.87911924],\n       [0.91225205, 0.08774795],\n       [0.12312225, 0.87687775],\n       [0.12088076, 0.87911924],\n       [0.95246203, 0.04753797],\n       [0.99893485, 0.00106515],\n       [0.99893485, 0.00106515],\n       [0.99893485, 0.00106515],\n       [0.99279359, 0.00720641],\n       [0.16330159, 0.83669841],\n       [0.93813708, 0.06186292],\n       [0.85003803, 0.14996197],\n       [0.84170998, 0.15829002],\n       [0.87231421, 0.12768579],\n       [0.89888302, 0.10111698],\n       [0.12088076, 0.87911924],\n       [0.99893485, 0.00106515],\n       [0.23983465, 0.76016535],\n       [0.93813708, 0.06186292],\n       [0.85755133, 0.14244867],\n       [0.99893485, 0.00106515],\n       [0.12088076, 0.87911924],\n       [0.99893485, 0.00106515],\n       [0.92271933, 0.07728067],\n       [0.99893485, 0.00106515],\n       [0.99695267, 0.00304733],\n       [0.99893485, 0.00106515],\n       [0.92387606, 0.07612394],\n       [0.99893485, 0.00106515],\n       [0.99893485, 0.00106515],\n       [0.99893485, 0.00106515],\n       [0.12088076, 0.87911924],\n       [0.16330159, 0.83669841],\n       [0.12088076, 0.87911924],\n       [0.99893485, 0.00106515],\n       [0.99893485, 0.00106515],\n       [0.12088076, 0.87911924],\n       [0.13034818, 0.86965182],\n       [0.16330159, 0.83669841],\n       [0.25893101, 0.74106899],\n       [0.12088076, 0.87911924],\n       [0.89341692, 0.10658308],\n       [0.99893485, 0.00106515],\n       [0.12088076, 0.87911924],\n       [0.99893485, 0.00106515],\n       [0.99893485, 0.00106515],\n       [0.90693403, 0.09306597],\n       [0.99893485, 0.00106515],\n       [0.12088076, 0.87911924],\n       [0.93813708, 0.06186292],\n       [0.93551168, 0.06448832],\n       [0.99695267, 0.00304733],\n       [0.9722584 , 0.0277416 ],\n       [0.90693403, 0.09306597],\n       [0.89888302, 0.10111698],\n       [0.90143065, 0.09856935],\n       [0.99695267, 0.00304733],\n       [0.86263265, 0.13736735],\n       [0.99893485, 0.00106515],\n       [0.53567283, 0.46432717],\n       [0.12088076, 0.87911924],\n       [0.99893485, 0.00106515],\n       [0.20308611, 0.79691389],\n       [0.99893485, 0.00106515],\n       [0.12787044, 0.87212956],\n       [0.93813708, 0.06186292],\n       [0.89449556, 0.10550444],\n       [0.87231421, 0.12768579],\n       [0.99893485, 0.00106515],\n       [0.85755133, 0.14244867],\n       [0.99893485, 0.00106515],\n       [0.99279359, 0.00720641],\n       [0.13723423, 0.86276577],\n       [0.99893485, 0.00106515],\n       [0.37645123, 0.62354877],\n       [0.94165294, 0.05834706],\n       [0.89028568, 0.10971432],\n       [0.99893485, 0.00106515],\n       [0.90693403, 0.09306597],\n       [0.97786437, 0.02213563],\n       [0.93111789, 0.06888211],\n       [0.99893485, 0.00106515],\n       [0.89888302, 0.10111698],\n       [0.99893485, 0.00106515],\n       [0.13640618, 0.86359382],\n       [0.89341692, 0.10658308],\n       [0.12088076, 0.87911924],\n       [0.99893485, 0.00106515],\n       [0.99893485, 0.00106515],\n       [0.99695267, 0.00304733],\n       [0.99893485, 0.00106515],\n       [0.99893485, 0.00106515],\n       [0.99893485, 0.00106515],\n       [0.99893485, 0.00106515],\n       [0.99893485, 0.00106515],\n       [0.99893485, 0.00106515],\n       [0.99893485, 0.00106515],\n       [0.99893485, 0.00106515],\n       [0.99893485, 0.00106515],\n       [0.89888302, 0.10111698],\n       [0.92387606, 0.07612394],\n       [0.99893485, 0.00106515],\n       [0.97786437, 0.02213563],\n       [0.97786437, 0.02213563],\n       [0.93813708, 0.06186292],\n       [0.943033  , 0.056967  ],\n       [0.99893485, 0.00106515],\n       [0.99893485, 0.00106515],\n       [0.99893485, 0.00106515],\n       [0.99893485, 0.00106515],\n       [0.86447941, 0.13552059],\n       [0.13640618, 0.86359382],\n       [0.99893485, 0.00106515],\n       [0.99893485, 0.00106515],\n       [0.99893485, 0.00106515],\n       [0.16330159, 0.83669841],\n       [0.99893485, 0.00106515],\n       [0.18424708, 0.81575292],\n       [0.12442958, 0.87557042],\n       [0.99893485, 0.00106515],\n       [0.41050347, 0.58949653],\n       [0.89888302, 0.10111698],\n       [0.99893485, 0.00106515],\n       [0.99893485, 0.00106515],\n       [0.12088076, 0.87911924],\n       [0.90693403, 0.09306597],\n       [0.89965256, 0.10034744],\n       [0.99279359, 0.00720641],\n       [0.99893485, 0.00106515],\n       [0.89965256, 0.10034744],\n       [0.97533322, 0.02466678],\n       [0.16330159, 0.83669841],\n       [0.12442958, 0.87557042],\n       [0.20110869, 0.79889131],\n       [0.99893485, 0.00106515],\n       [0.12088076, 0.87911924],\n       [0.99893485, 0.00106515],\n       [0.97786437, 0.02213563],\n       [0.99893485, 0.00106515],\n       [0.18331699, 0.81668301],\n       [0.97533322, 0.02466678],\n       [0.99695267, 0.00304733],\n       [0.95246203, 0.04753797],\n       [0.12088076, 0.87911924],\n       [0.99279359, 0.00720641],\n       [0.89888302, 0.10111698],\n       [0.93813708, 0.06186292],\n       [0.89888302, 0.10111698],\n       [0.89888302, 0.10111698],\n       [0.89888302, 0.10111698],\n       [0.97786437, 0.02213563],\n       [0.12088076, 0.87911924],\n       [0.99893485, 0.00106515],\n       [0.12088076, 0.87911924],\n       [0.99893485, 0.00106515],\n       [0.12088076, 0.87911924],\n       [0.99893485, 0.00106515],\n       [0.99893485, 0.00106515],\n       [0.97786437, 0.02213563],\n       [0.99893485, 0.00106515],\n       [0.99893485, 0.00106515],\n       [0.99893485, 0.00106515],\n       [0.99893485, 0.00106515],\n       [0.53567283, 0.46432717],\n       [0.99893485, 0.00106515],\n       [0.99893485, 0.00106515],\n       [0.99893485, 0.00106515],\n       [0.99695267, 0.00304733],\n       [0.99893485, 0.00106515],\n       [0.91394825, 0.08605175],\n       [0.99893485, 0.00106515],\n       [0.93967077, 0.06032923],\n       [0.84895399, 0.15104601],\n       [0.89028568, 0.10971432],\n       [0.97786437, 0.02213563],\n       [0.12088076, 0.87911924],\n       [0.16330159, 0.83669841],\n       [0.99893485, 0.00106515],\n       [0.99893485, 0.00106515],\n       [0.98694267, 0.01305733],\n       [0.99893485, 0.00106515],\n       [0.99893485, 0.00106515],\n       [0.89965256, 0.10034744],\n       [0.89028568, 0.10971432],\n       [0.99279359, 0.00720641],\n       [0.99893485, 0.00106515],\n       [0.89965256, 0.10034744],\n       [0.20110869, 0.79889131],\n       [0.97533322, 0.02466678],\n       [0.89965256, 0.10034744],\n       [0.99893485, 0.00106515],\n       [0.16330159, 0.83669841],\n       [0.13723423, 0.86276577],\n       [0.12088076, 0.87911924],\n       [0.86447941, 0.13552059],\n       [0.99893485, 0.00106515],\n       [0.89888302, 0.10111698],\n       [0.13640618, 0.86359382],\n       [0.98855943, 0.01144057],\n       [0.20110869, 0.79889131],\n       [0.99893485, 0.00106515],\n       [0.99893485, 0.00106515],\n       [0.99893485, 0.00106515],\n       [0.99893485, 0.00106515],\n       [0.99893485, 0.00106515],\n       [0.12312225, 0.87687775],\n       [0.97786437, 0.02213563],\n       [0.12526686, 0.87473314],\n       [0.99893485, 0.00106515],\n       [0.99893485, 0.00106515],\n       [0.99893485, 0.00106515],\n       [0.99893485, 0.00106515],\n       [0.97786437, 0.02213563],\n       [0.12088076, 0.87911924],\n       [0.99893485, 0.00106515],\n       [0.99893485, 0.00106515],\n       [0.99893485, 0.00106515],\n       [0.2269899 , 0.7730101 ],\n       [0.99893485, 0.00106515],\n       [0.99893485, 0.00106515],\n       [0.97786437, 0.02213563],\n       [0.85334009, 0.14665991],\n       [0.99893485, 0.00106515],\n       [0.97786437, 0.02213563],\n       [0.12088076, 0.87911924],\n       [0.99893485, 0.00106515],\n       [0.99893485, 0.00106515],\n       [0.12442958, 0.87557042],\n       [0.99485729, 0.00514271],\n       [0.98855943, 0.01144057],\n       [0.21354716, 0.78645284],\n       [0.99893485, 0.00106515]])"
     },
     "execution_count": 171,
     "metadata": {},
     "output_type": "execute_result"
    }
   ],
   "source": [
    "final_probabilities = final_model.predict_proba(X_test)\n",
    "final_probabilities\n",
    "\n"
   ]
  },
  {
   "cell_type": "code",
   "execution_count": 172,
   "metadata": {},
   "outputs": [
    {
     "data": {
      "text/plain": "         COASTAL  BLUE  GREEN   RED   NIR  SWIR1  SWIR2  QUALITY  NDVI  \\\n0          0.033 0.033  0.039 0.035 0.066  0.057  0.036    0.000 0.347   \n1          0.019 0.016  0.024 0.017 0.105  0.042  0.019    0.000 0.552   \n2          0.118 0.132  0.132 0.156 0.316  0.241  0.208    0.000 0.520   \n3          0.132 0.160  0.172 0.185 0.373  0.326  0.284    0.000 0.534   \n4          0.088 0.114  0.113 0.129 0.287  0.224  0.212    0.000 0.542   \n...          ...   ...    ...   ...   ...    ...    ...      ...   ...   \n1177045    0.025 0.025  0.037 0.040 0.141  0.118  0.067    0.000 0.544   \n1177046    0.024 0.024  0.036 0.039 0.141  0.116  0.064    0.000 0.550   \n1177047    0.024 0.024  0.035 0.039 0.132  0.115  0.067    0.000 0.529   \n1177048    0.025 0.026  0.035 0.042 0.116  0.114  0.069    0.000 0.475   \n1177049    0.026 0.026  0.036 0.042 0.121  0.117  0.070    0.000 0.489   \n\n         ATSAVI  ...  TASSELED_BRIGHTNESS  TASSELED_VEGETATION  \\\n0         0.072  ...                0.039                0.609   \n1         0.121  ...                0.040                0.676   \n2         0.335  ...                0.199                0.678   \n3         0.396  ...                0.244                0.682   \n4         0.308  ...                0.177                0.681   \n...         ...  ...                  ...                  ...   \n1177045   0.157  ...                0.066                0.684   \n1177046   0.158  ...                0.065                0.686   \n1177047   0.147  ...                0.062                0.676   \n1177048   0.128  ...                0.058                0.657   \n1177049   0.134  ...                0.060                0.662   \n\n         TASSELED_WETNESS  TRANSFORMED_NDVI   TVI  VARIGREEN  WDRVI  NDBI  \\\n0                   0.770             0.347 0.487      0.618  0.347 0.474   \n1                   0.788             0.552 0.461      0.648  0.552 0.318   \n2                   0.727             0.520 0.614      0.484  0.520 0.411   \n3                   0.680             0.534 0.578      0.520  0.534 0.459   \n4                   0.713             0.542 0.591      0.506  0.542 0.422   \n...                   ...               ...   ...        ...    ...   ...   \n1177045             0.741             0.544 0.531      0.567  0.544 0.458   \n1177046             0.744             0.550 0.528      0.570  0.550 0.451   \n1177047             0.740             0.529 0.531      0.568  0.529 0.468   \n1177048             0.736             0.475 0.548      0.550  0.475 0.503   \n1177049             0.736             0.489 0.547      0.551  0.489 0.497   \n\n           BU  MNDWI  \n0       0.606  0.684  \n1       0.398  0.683  \n2       0.474  0.513  \n3       0.498  0.472  \n4       0.470  0.495  \n...       ...    ...  \n1177045 0.492  0.494  \n1177046 0.484  0.498  \n1177047 0.506  0.498  \n1177048 0.557  0.498  \n1177049 0.546  0.493  \n\n[1177050 rows x 89 columns]",
      "text/html": "<div>\n<style scoped>\n    .dataframe tbody tr th:only-of-type {\n        vertical-align: middle;\n    }\n\n    .dataframe tbody tr th {\n        vertical-align: top;\n    }\n\n    .dataframe thead th {\n        text-align: right;\n    }\n</style>\n<table border=\"1\" class=\"dataframe\">\n  <thead>\n    <tr style=\"text-align: right;\">\n      <th></th>\n      <th>COASTAL</th>\n      <th>BLUE</th>\n      <th>GREEN</th>\n      <th>RED</th>\n      <th>NIR</th>\n      <th>SWIR1</th>\n      <th>SWIR2</th>\n      <th>QUALITY</th>\n      <th>NDVI</th>\n      <th>ATSAVI</th>\n      <th>...</th>\n      <th>TASSELED_BRIGHTNESS</th>\n      <th>TASSELED_VEGETATION</th>\n      <th>TASSELED_WETNESS</th>\n      <th>TRANSFORMED_NDVI</th>\n      <th>TVI</th>\n      <th>VARIGREEN</th>\n      <th>WDRVI</th>\n      <th>NDBI</th>\n      <th>BU</th>\n      <th>MNDWI</th>\n    </tr>\n  </thead>\n  <tbody>\n    <tr>\n      <th>0</th>\n      <td>0.033</td>\n      <td>0.033</td>\n      <td>0.039</td>\n      <td>0.035</td>\n      <td>0.066</td>\n      <td>0.057</td>\n      <td>0.036</td>\n      <td>0.000</td>\n      <td>0.347</td>\n      <td>0.072</td>\n      <td>...</td>\n      <td>0.039</td>\n      <td>0.609</td>\n      <td>0.770</td>\n      <td>0.347</td>\n      <td>0.487</td>\n      <td>0.618</td>\n      <td>0.347</td>\n      <td>0.474</td>\n      <td>0.606</td>\n      <td>0.684</td>\n    </tr>\n    <tr>\n      <th>1</th>\n      <td>0.019</td>\n      <td>0.016</td>\n      <td>0.024</td>\n      <td>0.017</td>\n      <td>0.105</td>\n      <td>0.042</td>\n      <td>0.019</td>\n      <td>0.000</td>\n      <td>0.552</td>\n      <td>0.121</td>\n      <td>...</td>\n      <td>0.040</td>\n      <td>0.676</td>\n      <td>0.788</td>\n      <td>0.552</td>\n      <td>0.461</td>\n      <td>0.648</td>\n      <td>0.552</td>\n      <td>0.318</td>\n      <td>0.398</td>\n      <td>0.683</td>\n    </tr>\n    <tr>\n      <th>2</th>\n      <td>0.118</td>\n      <td>0.132</td>\n      <td>0.132</td>\n      <td>0.156</td>\n      <td>0.316</td>\n      <td>0.241</td>\n      <td>0.208</td>\n      <td>0.000</td>\n      <td>0.520</td>\n      <td>0.335</td>\n      <td>...</td>\n      <td>0.199</td>\n      <td>0.678</td>\n      <td>0.727</td>\n      <td>0.520</td>\n      <td>0.614</td>\n      <td>0.484</td>\n      <td>0.520</td>\n      <td>0.411</td>\n      <td>0.474</td>\n      <td>0.513</td>\n    </tr>\n    <tr>\n      <th>3</th>\n      <td>0.132</td>\n      <td>0.160</td>\n      <td>0.172</td>\n      <td>0.185</td>\n      <td>0.373</td>\n      <td>0.326</td>\n      <td>0.284</td>\n      <td>0.000</td>\n      <td>0.534</td>\n      <td>0.396</td>\n      <td>...</td>\n      <td>0.244</td>\n      <td>0.682</td>\n      <td>0.680</td>\n      <td>0.534</td>\n      <td>0.578</td>\n      <td>0.520</td>\n      <td>0.534</td>\n      <td>0.459</td>\n      <td>0.498</td>\n      <td>0.472</td>\n    </tr>\n    <tr>\n      <th>4</th>\n      <td>0.088</td>\n      <td>0.114</td>\n      <td>0.113</td>\n      <td>0.129</td>\n      <td>0.287</td>\n      <td>0.224</td>\n      <td>0.212</td>\n      <td>0.000</td>\n      <td>0.542</td>\n      <td>0.308</td>\n      <td>...</td>\n      <td>0.177</td>\n      <td>0.681</td>\n      <td>0.713</td>\n      <td>0.542</td>\n      <td>0.591</td>\n      <td>0.506</td>\n      <td>0.542</td>\n      <td>0.422</td>\n      <td>0.470</td>\n      <td>0.495</td>\n    </tr>\n    <tr>\n      <th>...</th>\n      <td>...</td>\n      <td>...</td>\n      <td>...</td>\n      <td>...</td>\n      <td>...</td>\n      <td>...</td>\n      <td>...</td>\n      <td>...</td>\n      <td>...</td>\n      <td>...</td>\n      <td>...</td>\n      <td>...</td>\n      <td>...</td>\n      <td>...</td>\n      <td>...</td>\n      <td>...</td>\n      <td>...</td>\n      <td>...</td>\n      <td>...</td>\n      <td>...</td>\n      <td>...</td>\n    </tr>\n    <tr>\n      <th>1177045</th>\n      <td>0.025</td>\n      <td>0.025</td>\n      <td>0.037</td>\n      <td>0.040</td>\n      <td>0.141</td>\n      <td>0.118</td>\n      <td>0.067</td>\n      <td>0.000</td>\n      <td>0.544</td>\n      <td>0.157</td>\n      <td>...</td>\n      <td>0.066</td>\n      <td>0.684</td>\n      <td>0.741</td>\n      <td>0.544</td>\n      <td>0.531</td>\n      <td>0.567</td>\n      <td>0.544</td>\n      <td>0.458</td>\n      <td>0.492</td>\n      <td>0.494</td>\n    </tr>\n    <tr>\n      <th>1177046</th>\n      <td>0.024</td>\n      <td>0.024</td>\n      <td>0.036</td>\n      <td>0.039</td>\n      <td>0.141</td>\n      <td>0.116</td>\n      <td>0.064</td>\n      <td>0.000</td>\n      <td>0.550</td>\n      <td>0.158</td>\n      <td>...</td>\n      <td>0.065</td>\n      <td>0.686</td>\n      <td>0.744</td>\n      <td>0.550</td>\n      <td>0.528</td>\n      <td>0.570</td>\n      <td>0.550</td>\n      <td>0.451</td>\n      <td>0.484</td>\n      <td>0.498</td>\n    </tr>\n    <tr>\n      <th>1177047</th>\n      <td>0.024</td>\n      <td>0.024</td>\n      <td>0.035</td>\n      <td>0.039</td>\n      <td>0.132</td>\n      <td>0.115</td>\n      <td>0.067</td>\n      <td>0.000</td>\n      <td>0.529</td>\n      <td>0.147</td>\n      <td>...</td>\n      <td>0.062</td>\n      <td>0.676</td>\n      <td>0.740</td>\n      <td>0.529</td>\n      <td>0.531</td>\n      <td>0.568</td>\n      <td>0.529</td>\n      <td>0.468</td>\n      <td>0.506</td>\n      <td>0.498</td>\n    </tr>\n    <tr>\n      <th>1177048</th>\n      <td>0.025</td>\n      <td>0.026</td>\n      <td>0.035</td>\n      <td>0.042</td>\n      <td>0.116</td>\n      <td>0.114</td>\n      <td>0.069</td>\n      <td>0.000</td>\n      <td>0.475</td>\n      <td>0.128</td>\n      <td>...</td>\n      <td>0.058</td>\n      <td>0.657</td>\n      <td>0.736</td>\n      <td>0.475</td>\n      <td>0.548</td>\n      <td>0.550</td>\n      <td>0.475</td>\n      <td>0.503</td>\n      <td>0.557</td>\n      <td>0.498</td>\n    </tr>\n    <tr>\n      <th>1177049</th>\n      <td>0.026</td>\n      <td>0.026</td>\n      <td>0.036</td>\n      <td>0.042</td>\n      <td>0.121</td>\n      <td>0.117</td>\n      <td>0.070</td>\n      <td>0.000</td>\n      <td>0.489</td>\n      <td>0.134</td>\n      <td>...</td>\n      <td>0.060</td>\n      <td>0.662</td>\n      <td>0.736</td>\n      <td>0.489</td>\n      <td>0.547</td>\n      <td>0.551</td>\n      <td>0.489</td>\n      <td>0.497</td>\n      <td>0.546</td>\n      <td>0.493</td>\n    </tr>\n  </tbody>\n</table>\n<p>1177050 rows × 89 columns</p>\n</div>"
     },
     "execution_count": 172,
     "metadata": {},
     "output_type": "execute_result"
    }
   ],
   "source": [
    "x_total_bogota = bogota_2018.dataframe.drop(\"COBERTURE\", axis=1)\n",
    "x_total_bogota"
   ]
  },
  {
   "cell_type": "code",
   "execution_count": 173,
   "metadata": {},
   "outputs": [],
   "source": [
    "x_total_bogota = pca.transform(x_total_bogota)"
   ]
  },
  {
   "cell_type": "code",
   "execution_count": 174,
   "metadata": {},
   "outputs": [
    {
     "data": {
      "text/plain": "array([[-0.76028503, -0.21598403,  0.21097851,  0.02291384],\n       [ 0.24471011, -0.21085448,  0.17467023,  0.10667045],\n       [ 0.09681959,  0.25542454, -0.52816226, -0.04435249],\n       ...,\n       [ 0.10361998, -0.00890161, -0.17924269, -0.12907321],\n       [-0.15419097, -0.02062156, -0.16345318, -0.14948279],\n       [-0.08799579, -0.01323466, -0.17750527, -0.15022201]])"
     },
     "execution_count": 174,
     "metadata": {},
     "output_type": "execute_result"
    }
   ],
   "source": [
    "x_total_bogota"
   ]
  },
  {
   "cell_type": "code",
   "execution_count": 175,
   "metadata": {},
   "outputs": [
    {
     "data": {
      "text/plain": "array([1, 0, 0, ..., 0, 0, 0], dtype=int64)"
     },
     "execution_count": 175,
     "metadata": {},
     "output_type": "execute_result"
    }
   ],
   "source": [
    "bogota_prediction = final_model.predict(x_total_bogota)\n",
    "bogota_prediction"
   ]
  },
  {
   "cell_type": "code",
   "execution_count": 176,
   "metadata": {},
   "outputs": [],
   "source": [
    "bogota_2018.dataframe[\"PREDICTION\"] = bogota_prediction"
   ]
  },
  {
   "cell_type": "code",
   "execution_count": 177,
   "metadata": {},
   "outputs": [
    {
     "data": {
      "text/plain": "         COASTAL  BLUE  GREEN   RED   NIR  SWIR1  SWIR2  QUALITY  NDVI  \\\n0          0.033 0.033  0.039 0.035 0.066  0.057  0.036    0.000 0.347   \n1          0.019 0.016  0.024 0.017 0.105  0.042  0.019    0.000 0.552   \n2          0.118 0.132  0.132 0.156 0.316  0.241  0.208    0.000 0.520   \n3          0.132 0.160  0.172 0.185 0.373  0.326  0.284    0.000 0.534   \n4          0.088 0.114  0.113 0.129 0.287  0.224  0.212    0.000 0.542   \n...          ...   ...    ...   ...   ...    ...    ...      ...   ...   \n1177045    0.025 0.025  0.037 0.040 0.141  0.118  0.067    0.000 0.544   \n1177046    0.024 0.024  0.036 0.039 0.141  0.116  0.064    0.000 0.550   \n1177047    0.024 0.024  0.035 0.039 0.132  0.115  0.067    0.000 0.529   \n1177048    0.025 0.026  0.035 0.042 0.116  0.114  0.069    0.000 0.475   \n1177049    0.026 0.026  0.036 0.042 0.121  0.117  0.070    0.000 0.489   \n\n         ATSAVI  ...  TASSELED_WETNESS  TRANSFORMED_NDVI   TVI  VARIGREEN  \\\n0         0.072  ...             0.770             0.347 0.487      0.618   \n1         0.121  ...             0.788             0.552 0.461      0.648   \n2         0.335  ...             0.727             0.520 0.614      0.484   \n3         0.396  ...             0.680             0.534 0.578      0.520   \n4         0.308  ...             0.713             0.542 0.591      0.506   \n...         ...  ...               ...               ...   ...        ...   \n1177045   0.157  ...             0.741             0.544 0.531      0.567   \n1177046   0.158  ...             0.744             0.550 0.528      0.570   \n1177047   0.147  ...             0.740             0.529 0.531      0.568   \n1177048   0.128  ...             0.736             0.475 0.548      0.550   \n1177049   0.134  ...             0.736             0.489 0.547      0.551   \n\n         WDRVI  NDBI    BU  MNDWI  COBERTURE  PREDICTION  \n0        0.347 0.474 0.606  0.684      -9999           1  \n1        0.552 0.318 0.398  0.683      -9999           0  \n2        0.520 0.411 0.474  0.513      -9999           0  \n3        0.534 0.459 0.498  0.472      -9999           0  \n4        0.542 0.422 0.470  0.495      -9999           0  \n...        ...   ...   ...    ...        ...         ...  \n1177045  0.544 0.458 0.492  0.494      -9999           0  \n1177046  0.550 0.451 0.484  0.498      -9999           0  \n1177047  0.529 0.468 0.506  0.498      -9999           0  \n1177048  0.475 0.503 0.557  0.498      -9999           0  \n1177049  0.489 0.497 0.546  0.493      -9999           0  \n\n[1177050 rows x 91 columns]",
      "text/html": "<div>\n<style scoped>\n    .dataframe tbody tr th:only-of-type {\n        vertical-align: middle;\n    }\n\n    .dataframe tbody tr th {\n        vertical-align: top;\n    }\n\n    .dataframe thead th {\n        text-align: right;\n    }\n</style>\n<table border=\"1\" class=\"dataframe\">\n  <thead>\n    <tr style=\"text-align: right;\">\n      <th></th>\n      <th>COASTAL</th>\n      <th>BLUE</th>\n      <th>GREEN</th>\n      <th>RED</th>\n      <th>NIR</th>\n      <th>SWIR1</th>\n      <th>SWIR2</th>\n      <th>QUALITY</th>\n      <th>NDVI</th>\n      <th>ATSAVI</th>\n      <th>...</th>\n      <th>TASSELED_WETNESS</th>\n      <th>TRANSFORMED_NDVI</th>\n      <th>TVI</th>\n      <th>VARIGREEN</th>\n      <th>WDRVI</th>\n      <th>NDBI</th>\n      <th>BU</th>\n      <th>MNDWI</th>\n      <th>COBERTURE</th>\n      <th>PREDICTION</th>\n    </tr>\n  </thead>\n  <tbody>\n    <tr>\n      <th>0</th>\n      <td>0.033</td>\n      <td>0.033</td>\n      <td>0.039</td>\n      <td>0.035</td>\n      <td>0.066</td>\n      <td>0.057</td>\n      <td>0.036</td>\n      <td>0.000</td>\n      <td>0.347</td>\n      <td>0.072</td>\n      <td>...</td>\n      <td>0.770</td>\n      <td>0.347</td>\n      <td>0.487</td>\n      <td>0.618</td>\n      <td>0.347</td>\n      <td>0.474</td>\n      <td>0.606</td>\n      <td>0.684</td>\n      <td>-9999</td>\n      <td>1</td>\n    </tr>\n    <tr>\n      <th>1</th>\n      <td>0.019</td>\n      <td>0.016</td>\n      <td>0.024</td>\n      <td>0.017</td>\n      <td>0.105</td>\n      <td>0.042</td>\n      <td>0.019</td>\n      <td>0.000</td>\n      <td>0.552</td>\n      <td>0.121</td>\n      <td>...</td>\n      <td>0.788</td>\n      <td>0.552</td>\n      <td>0.461</td>\n      <td>0.648</td>\n      <td>0.552</td>\n      <td>0.318</td>\n      <td>0.398</td>\n      <td>0.683</td>\n      <td>-9999</td>\n      <td>0</td>\n    </tr>\n    <tr>\n      <th>2</th>\n      <td>0.118</td>\n      <td>0.132</td>\n      <td>0.132</td>\n      <td>0.156</td>\n      <td>0.316</td>\n      <td>0.241</td>\n      <td>0.208</td>\n      <td>0.000</td>\n      <td>0.520</td>\n      <td>0.335</td>\n      <td>...</td>\n      <td>0.727</td>\n      <td>0.520</td>\n      <td>0.614</td>\n      <td>0.484</td>\n      <td>0.520</td>\n      <td>0.411</td>\n      <td>0.474</td>\n      <td>0.513</td>\n      <td>-9999</td>\n      <td>0</td>\n    </tr>\n    <tr>\n      <th>3</th>\n      <td>0.132</td>\n      <td>0.160</td>\n      <td>0.172</td>\n      <td>0.185</td>\n      <td>0.373</td>\n      <td>0.326</td>\n      <td>0.284</td>\n      <td>0.000</td>\n      <td>0.534</td>\n      <td>0.396</td>\n      <td>...</td>\n      <td>0.680</td>\n      <td>0.534</td>\n      <td>0.578</td>\n      <td>0.520</td>\n      <td>0.534</td>\n      <td>0.459</td>\n      <td>0.498</td>\n      <td>0.472</td>\n      <td>-9999</td>\n      <td>0</td>\n    </tr>\n    <tr>\n      <th>4</th>\n      <td>0.088</td>\n      <td>0.114</td>\n      <td>0.113</td>\n      <td>0.129</td>\n      <td>0.287</td>\n      <td>0.224</td>\n      <td>0.212</td>\n      <td>0.000</td>\n      <td>0.542</td>\n      <td>0.308</td>\n      <td>...</td>\n      <td>0.713</td>\n      <td>0.542</td>\n      <td>0.591</td>\n      <td>0.506</td>\n      <td>0.542</td>\n      <td>0.422</td>\n      <td>0.470</td>\n      <td>0.495</td>\n      <td>-9999</td>\n      <td>0</td>\n    </tr>\n    <tr>\n      <th>...</th>\n      <td>...</td>\n      <td>...</td>\n      <td>...</td>\n      <td>...</td>\n      <td>...</td>\n      <td>...</td>\n      <td>...</td>\n      <td>...</td>\n      <td>...</td>\n      <td>...</td>\n      <td>...</td>\n      <td>...</td>\n      <td>...</td>\n      <td>...</td>\n      <td>...</td>\n      <td>...</td>\n      <td>...</td>\n      <td>...</td>\n      <td>...</td>\n      <td>...</td>\n      <td>...</td>\n    </tr>\n    <tr>\n      <th>1177045</th>\n      <td>0.025</td>\n      <td>0.025</td>\n      <td>0.037</td>\n      <td>0.040</td>\n      <td>0.141</td>\n      <td>0.118</td>\n      <td>0.067</td>\n      <td>0.000</td>\n      <td>0.544</td>\n      <td>0.157</td>\n      <td>...</td>\n      <td>0.741</td>\n      <td>0.544</td>\n      <td>0.531</td>\n      <td>0.567</td>\n      <td>0.544</td>\n      <td>0.458</td>\n      <td>0.492</td>\n      <td>0.494</td>\n      <td>-9999</td>\n      <td>0</td>\n    </tr>\n    <tr>\n      <th>1177046</th>\n      <td>0.024</td>\n      <td>0.024</td>\n      <td>0.036</td>\n      <td>0.039</td>\n      <td>0.141</td>\n      <td>0.116</td>\n      <td>0.064</td>\n      <td>0.000</td>\n      <td>0.550</td>\n      <td>0.158</td>\n      <td>...</td>\n      <td>0.744</td>\n      <td>0.550</td>\n      <td>0.528</td>\n      <td>0.570</td>\n      <td>0.550</td>\n      <td>0.451</td>\n      <td>0.484</td>\n      <td>0.498</td>\n      <td>-9999</td>\n      <td>0</td>\n    </tr>\n    <tr>\n      <th>1177047</th>\n      <td>0.024</td>\n      <td>0.024</td>\n      <td>0.035</td>\n      <td>0.039</td>\n      <td>0.132</td>\n      <td>0.115</td>\n      <td>0.067</td>\n      <td>0.000</td>\n      <td>0.529</td>\n      <td>0.147</td>\n      <td>...</td>\n      <td>0.740</td>\n      <td>0.529</td>\n      <td>0.531</td>\n      <td>0.568</td>\n      <td>0.529</td>\n      <td>0.468</td>\n      <td>0.506</td>\n      <td>0.498</td>\n      <td>-9999</td>\n      <td>0</td>\n    </tr>\n    <tr>\n      <th>1177048</th>\n      <td>0.025</td>\n      <td>0.026</td>\n      <td>0.035</td>\n      <td>0.042</td>\n      <td>0.116</td>\n      <td>0.114</td>\n      <td>0.069</td>\n      <td>0.000</td>\n      <td>0.475</td>\n      <td>0.128</td>\n      <td>...</td>\n      <td>0.736</td>\n      <td>0.475</td>\n      <td>0.548</td>\n      <td>0.550</td>\n      <td>0.475</td>\n      <td>0.503</td>\n      <td>0.557</td>\n      <td>0.498</td>\n      <td>-9999</td>\n      <td>0</td>\n    </tr>\n    <tr>\n      <th>1177049</th>\n      <td>0.026</td>\n      <td>0.026</td>\n      <td>0.036</td>\n      <td>0.042</td>\n      <td>0.121</td>\n      <td>0.117</td>\n      <td>0.070</td>\n      <td>0.000</td>\n      <td>0.489</td>\n      <td>0.134</td>\n      <td>...</td>\n      <td>0.736</td>\n      <td>0.489</td>\n      <td>0.547</td>\n      <td>0.551</td>\n      <td>0.489</td>\n      <td>0.497</td>\n      <td>0.546</td>\n      <td>0.493</td>\n      <td>-9999</td>\n      <td>0</td>\n    </tr>\n  </tbody>\n</table>\n<p>1177050 rows × 91 columns</p>\n</div>"
     },
     "execution_count": 177,
     "metadata": {},
     "output_type": "execute_result"
    }
   ],
   "source": [
    "bogota_2018.dataframe"
   ]
  },
  {
   "cell_type": "code",
   "execution_count": 178,
   "metadata": {},
   "outputs": [
    {
     "data": {
      "text/plain": "array([[0.45610444, 0.54389556],\n       [0.99893485, 0.00106515],\n       [0.88306219, 0.11693781],\n       ...,\n       [0.84895399, 0.15104601],\n       [0.84895399, 0.15104601],\n       [0.84895399, 0.15104601]])"
     },
     "execution_count": 178,
     "metadata": {},
     "output_type": "execute_result"
    }
   ],
   "source": [
    "bogota_probability = final_model.predict_proba(x_total_bogota)\n",
    "bogota_probability"
   ]
  },
  {
   "cell_type": "code",
   "execution_count": 179,
   "metadata": {},
   "outputs": [],
   "source": [
    "bogota_probability_building = bogota_probability[:, 1]"
   ]
  },
  {
   "cell_type": "code",
   "execution_count": 180,
   "metadata": {},
   "outputs": [],
   "source": [
    "bogota_2018.dataframe[\"BUILDING_PROBA\"] = bogota_probability_building"
   ]
  },
  {
   "cell_type": "code",
   "execution_count": 181,
   "metadata": {},
   "outputs": [
    {
     "data": {
      "text/plain": "   COASTAL  BLUE  GREEN   RED   NIR  SWIR1  SWIR2  QUALITY  NDVI  ATSAVI  ...  \\\n0    0.033 0.033  0.039 0.035 0.066  0.057  0.036    0.000 0.347   0.072  ...   \n1    0.019 0.016  0.024 0.017 0.105  0.042  0.019    0.000 0.552   0.121  ...   \n2    0.118 0.132  0.132 0.156 0.316  0.241  0.208    0.000 0.520   0.335  ...   \n3    0.132 0.160  0.172 0.185 0.373  0.326  0.284    0.000 0.534   0.396  ...   \n4    0.088 0.114  0.113 0.129 0.287  0.224  0.212    0.000 0.542   0.308  ...   \n\n   TRANSFORMED_NDVI   TVI  VARIGREEN  WDRVI  NDBI    BU  MNDWI  COBERTURE  \\\n0             0.347 0.487      0.618  0.347 0.474 0.606  0.684      -9999   \n1             0.552 0.461      0.648  0.552 0.318 0.398  0.683      -9999   \n2             0.520 0.614      0.484  0.520 0.411 0.474  0.513      -9999   \n3             0.534 0.578      0.520  0.534 0.459 0.498  0.472      -9999   \n4             0.542 0.591      0.506  0.542 0.422 0.470  0.495      -9999   \n\n   PREDICTION  BUILDING_PROBA  \n0           1           0.544  \n1           0           0.001  \n2           0           0.117  \n3           0           0.144  \n4           0           0.144  \n\n[5 rows x 92 columns]",
      "text/html": "<div>\n<style scoped>\n    .dataframe tbody tr th:only-of-type {\n        vertical-align: middle;\n    }\n\n    .dataframe tbody tr th {\n        vertical-align: top;\n    }\n\n    .dataframe thead th {\n        text-align: right;\n    }\n</style>\n<table border=\"1\" class=\"dataframe\">\n  <thead>\n    <tr style=\"text-align: right;\">\n      <th></th>\n      <th>COASTAL</th>\n      <th>BLUE</th>\n      <th>GREEN</th>\n      <th>RED</th>\n      <th>NIR</th>\n      <th>SWIR1</th>\n      <th>SWIR2</th>\n      <th>QUALITY</th>\n      <th>NDVI</th>\n      <th>ATSAVI</th>\n      <th>...</th>\n      <th>TRANSFORMED_NDVI</th>\n      <th>TVI</th>\n      <th>VARIGREEN</th>\n      <th>WDRVI</th>\n      <th>NDBI</th>\n      <th>BU</th>\n      <th>MNDWI</th>\n      <th>COBERTURE</th>\n      <th>PREDICTION</th>\n      <th>BUILDING_PROBA</th>\n    </tr>\n  </thead>\n  <tbody>\n    <tr>\n      <th>0</th>\n      <td>0.033</td>\n      <td>0.033</td>\n      <td>0.039</td>\n      <td>0.035</td>\n      <td>0.066</td>\n      <td>0.057</td>\n      <td>0.036</td>\n      <td>0.000</td>\n      <td>0.347</td>\n      <td>0.072</td>\n      <td>...</td>\n      <td>0.347</td>\n      <td>0.487</td>\n      <td>0.618</td>\n      <td>0.347</td>\n      <td>0.474</td>\n      <td>0.606</td>\n      <td>0.684</td>\n      <td>-9999</td>\n      <td>1</td>\n      <td>0.544</td>\n    </tr>\n    <tr>\n      <th>1</th>\n      <td>0.019</td>\n      <td>0.016</td>\n      <td>0.024</td>\n      <td>0.017</td>\n      <td>0.105</td>\n      <td>0.042</td>\n      <td>0.019</td>\n      <td>0.000</td>\n      <td>0.552</td>\n      <td>0.121</td>\n      <td>...</td>\n      <td>0.552</td>\n      <td>0.461</td>\n      <td>0.648</td>\n      <td>0.552</td>\n      <td>0.318</td>\n      <td>0.398</td>\n      <td>0.683</td>\n      <td>-9999</td>\n      <td>0</td>\n      <td>0.001</td>\n    </tr>\n    <tr>\n      <th>2</th>\n      <td>0.118</td>\n      <td>0.132</td>\n      <td>0.132</td>\n      <td>0.156</td>\n      <td>0.316</td>\n      <td>0.241</td>\n      <td>0.208</td>\n      <td>0.000</td>\n      <td>0.520</td>\n      <td>0.335</td>\n      <td>...</td>\n      <td>0.520</td>\n      <td>0.614</td>\n      <td>0.484</td>\n      <td>0.520</td>\n      <td>0.411</td>\n      <td>0.474</td>\n      <td>0.513</td>\n      <td>-9999</td>\n      <td>0</td>\n      <td>0.117</td>\n    </tr>\n    <tr>\n      <th>3</th>\n      <td>0.132</td>\n      <td>0.160</td>\n      <td>0.172</td>\n      <td>0.185</td>\n      <td>0.373</td>\n      <td>0.326</td>\n      <td>0.284</td>\n      <td>0.000</td>\n      <td>0.534</td>\n      <td>0.396</td>\n      <td>...</td>\n      <td>0.534</td>\n      <td>0.578</td>\n      <td>0.520</td>\n      <td>0.534</td>\n      <td>0.459</td>\n      <td>0.498</td>\n      <td>0.472</td>\n      <td>-9999</td>\n      <td>0</td>\n      <td>0.144</td>\n    </tr>\n    <tr>\n      <th>4</th>\n      <td>0.088</td>\n      <td>0.114</td>\n      <td>0.113</td>\n      <td>0.129</td>\n      <td>0.287</td>\n      <td>0.224</td>\n      <td>0.212</td>\n      <td>0.000</td>\n      <td>0.542</td>\n      <td>0.308</td>\n      <td>...</td>\n      <td>0.542</td>\n      <td>0.591</td>\n      <td>0.506</td>\n      <td>0.542</td>\n      <td>0.422</td>\n      <td>0.470</td>\n      <td>0.495</td>\n      <td>-9999</td>\n      <td>0</td>\n      <td>0.144</td>\n    </tr>\n  </tbody>\n</table>\n<p>5 rows × 92 columns</p>\n</div>"
     },
     "execution_count": 181,
     "metadata": {},
     "output_type": "execute_result"
    }
   ],
   "source": [
    "bogota_2018.dataframe.head()"
   ]
  },
  {
   "cell_type": "code",
   "execution_count": 182,
   "metadata": {},
   "outputs": [],
   "source": [
    "bogota_2018.dataframe_to_raster(\"prueba.tiff\")"
   ]
  }
 ],
 "metadata": {
  "kernelspec": {
   "name": "python361064bitgeospatialcondafd99ba3e80f8495aa37ee7757bc7c5e5",
   "language": "python",
   "display_name": "Python 3.6.10 64-bit ('geospatial': conda)"
  },
  "language_info": {
   "codemirror_mode": {
    "name": "ipython",
    "version": 3
   },
   "file_extension": ".py",
   "mimetype": "text/x-python",
   "name": "python",
   "nbconvert_exporter": "python",
   "pygments_lexer": "ipython3",
   "version": "3.6.10"
  }
 },
 "nbformat": 4,
 "nbformat_minor": 1
}